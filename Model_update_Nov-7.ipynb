{
 "cells": [
  {
   "cell_type": "code",
   "execution_count": 1,
   "id": "3e9a2efc",
   "metadata": {},
   "outputs": [],
   "source": [
    "import numpy as np\n",
    "import re\n",
    "import heapq\n",
    "from tensorflow.keras.preprocessing.text import Tokenizer\n",
    "from tensorflow.keras.preprocessing.sequence import pad_sequences\n",
    "from tensorflow.keras.utils import to_categorical\n",
    "from tensorflow.keras.models import Sequential\n",
    "from tensorflow.keras.layers import Embedding, GRU, Dense\n",
    "from tensorflow.keras.callbacks import EarlyStopping, ModelCheckpoint, ReduceLROnPlateau\n",
    "from tensorflow.keras.optimizers import Adam\n",
    "from sklearn.model_selection import train_test_split"
   ]
  },
  {
   "cell_type": "code",
   "execution_count": 2,
   "id": "def0ebb0",
   "metadata": {},
   "outputs": [],
   "source": [
    "# 1. Text Cleaner\n",
    "def text_cleaner(text):\n",
    "    newString = text.lower()\n",
    "    newString = re.sub(r\"'s\\b\", \"\", newString)\n",
    "    newString = re.sub(\"[^a-zA-Zñáéíóúü ]\", \" \", newString)\n",
    "    newString = re.sub('\\s+', ' ', newString)\n",
    "    long_words = []\n",
    "    for i in newString.split():\n",
    "        if len(i) >= 3:\n",
    "            long_words.append(i)\n",
    "    return (\" \".join(long_words)).strip()\n",
    "\n",
    "with open('training_data.txt', 'r', encoding='utf-8') as file:\n",
    "    training_data = file.read()\n",
    "\n",
    "data_new = text_cleaner(training_data)"
   ]
  },
  {
   "cell_type": "code",
   "execution_count": 3,
   "id": "6f230a8b",
   "metadata": {},
   "outputs": [],
   "source": [
    "# 2. Tokenizing the text into words\n",
    "tokenizer = Tokenizer()\n",
    "tokenizer.fit_on_texts([data_new])\n",
    "encoded = tokenizer.texts_to_sequences([data_new])[0]"
   ]
  },
  {
   "cell_type": "code",
   "execution_count": 4,
   "id": "c955f2cd",
   "metadata": {},
   "outputs": [],
   "source": [
    "# 3. Creating Sequences of Tokens\n",
    "sequence_length = 30  # Length of the word sequences\n",
    "sequences = [encoded[i - sequence_length:i+1] for i in range(sequence_length, len(encoded))]"
   ]
  },
  {
   "cell_type": "code",
   "execution_count": 5,
   "id": "ac607592",
   "metadata": {},
   "outputs": [],
   "source": [
    "# 4. Preparing the dataset\n",
    "vocab_size = len(tokenizer.word_index) + 1\n",
    "sequences = np.array(sequences)\n",
    "X, y = sequences[:,:-1], sequences[:,-1]\n",
    "y = to_categorical(y, num_classes=vocab_size)\n",
    "X_tr, X_val, y_tr, y_val = train_test_split(X, y, test_size=0.2)"
   ]
  },
  {
   "cell_type": "code",
   "execution_count": 6,
   "id": "a0cd16e6",
   "metadata": {},
   "outputs": [],
   "source": [
    "# 5. Defining the Model\n",
    "model = Sequential()\n",
    "model.add(Embedding(vocab_size, 50, input_length=sequence_length, trainable=True))\n",
    "model.add(GRU(150, return_sequences=False))\n",
    "model.add(Dense(vocab_size, activation='softmax'))\n",
    "model.compile(loss='categorical_crossentropy', optimizer=Adam(learning_rate=0.01), metrics=['accuracy'])"
   ]
  },
  {
   "cell_type": "code",
   "execution_count": 7,
   "id": "0b13eb8d",
   "metadata": {},
   "outputs": [
    {
     "name": "stdout",
     "output_type": "stream",
     "text": [
      "Epoch 1/50\n",
      "2073/2073 [==============================] - 28s 12ms/step - loss: 4.2019 - accuracy: 0.4244 - val_loss: 3.4513 - val_accuracy: 0.5147 - lr: 0.0100\n",
      "Epoch 2/50\n",
      "2073/2073 [==============================] - 22s 11ms/step - loss: 3.2213 - accuracy: 0.5249 - val_loss: 3.7270 - val_accuracy: 0.5231 - lr: 0.0100\n",
      "Epoch 3/50\n",
      "2073/2073 [==============================] - 22s 11ms/step - loss: 2.9896 - accuracy: 0.5453 - val_loss: 3.7930 - val_accuracy: 0.5359 - lr: 0.0100\n",
      "Epoch 4/50\n",
      "2073/2073 [==============================] - 22s 11ms/step - loss: 2.7248 - accuracy: 0.5590 - val_loss: 3.4739 - val_accuracy: 0.5322 - lr: 0.0100\n",
      "Epoch 5/50\n",
      "2073/2073 [==============================] - 22s 11ms/step - loss: 1.3724 - accuracy: 0.6906 - val_loss: 2.8738 - val_accuracy: 0.5933 - lr: 0.0020\n",
      "Epoch 6/50\n",
      "2073/2073 [==============================] - 22s 11ms/step - loss: 1.1066 - accuracy: 0.7309 - val_loss: 2.8778 - val_accuracy: 0.5969 - lr: 0.0020\n",
      "Epoch 7/50\n",
      "2073/2073 [==============================] - 22s 11ms/step - loss: 0.9725 - accuracy: 0.7574 - val_loss: 2.9265 - val_accuracy: 0.5954 - lr: 0.0020\n",
      "Epoch 8/50\n",
      "2073/2073 [==============================] - 22s 11ms/step - loss: 0.8642 - accuracy: 0.7802 - val_loss: 2.9939 - val_accuracy: 0.5925 - lr: 0.0020\n",
      "Epoch 9/50\n",
      "2073/2073 [==============================] - 23s 11ms/step - loss: 0.6824 - accuracy: 0.8269 - val_loss: 2.9931 - val_accuracy: 0.5974 - lr: 0.0010\n",
      "Epoch 10/50\n",
      "2073/2073 [==============================] - 22s 11ms/step - loss: 0.6204 - accuracy: 0.8428 - val_loss: 3.0406 - val_accuracy: 0.5949 - lr: 0.0010\n"
     ]
    },
    {
     "data": {
      "text/plain": [
       "<keras.callbacks.History at 0x181ec08bfd0>"
      ]
     },
     "execution_count": 7,
     "metadata": {},
     "output_type": "execute_result"
    }
   ],
   "source": [
    "# 6. Training\n",
    "callbacks = [\n",
    "    EarlyStopping(monitor='val_loss', patience=5),\n",
    "    ModelCheckpoint('model.h5', save_best_only=True, monitor='val_loss'),\n",
    "    ReduceLROnPlateau(monitor='val_loss', factor=0.2, patience=3, min_lr=0.001)\n",
    "]\n",
    "\n",
    "model.fit(X_tr, y_tr, epochs=50, batch_size=64, validation_data=(X_val, y_val), verbose=1, callbacks=callbacks)"
   ]
  },
  {
   "cell_type": "code",
   "execution_count": 8,
   "id": "fad11376",
   "metadata": {},
   "outputs": [],
   "source": [
    "#Word Level Function\n",
    "def generate_seq_beam_search(model, tokenizer, seq_length, seed_text, num_words, beam_width=3):\n",
    "    sequences = [{'seq': seed_text, 'score': 1.0}]\n",
    "    for _ in range(num_words):\n",
    "        all_candidates = []\n",
    "        for i in range(len(sequences)):\n",
    "            seq, score = sequences[i]['seq'], sequences[i]['score']\n",
    "            if len(seq) < seq_length:\n",
    "                sequence = pad_sequences([seq], maxlen=seq_length, truncating='pre')\n",
    "            else:\n",
    "                sequence = np.array(seq[-seq_length:]).reshape(1, seq_length)\n",
    "            \n",
    "            preds = model.predict(sequence, verbose=0).flatten()\n",
    "            top_indices = np.argsort(preds)[-beam_width:]\n",
    "\n",
    "            for j in top_indices:\n",
    "                candidate = [num for num in seq] + [j]\n",
    "                candidate_score = score * preds[j]\n",
    "                all_candidates.append({'seq': candidate, 'score': candidate_score})\n",
    "\n",
    "        ordered = sorted(all_candidates, key=lambda tup: tup['score'], reverse=True)\n",
    "        sequences = ordered[:beam_width]\n",
    "    return sequences"
   ]
  },
  {
   "cell_type": "code",
   "execution_count": 9,
   "id": "10a5a6d4",
   "metadata": {},
   "outputs": [
    {
     "name": "stdout",
     "output_type": "stream",
     "text": [
      "jueves veinte de tres enero mil mil setecientos\n"
     ]
    }
   ],
   "source": [
    "# Define the text before and after the gap\n",
    "text_before_gap = \"Jueves veinte de\".lower()\n",
    "text_after_gap = \"mil setecientos\".lower()\n",
    "\n",
    "# Estimate the gap length (this can be a rough estimate or based on context)\n",
    "gap_length_estimate = 3  # let's say we expect three words to fill the gap\n",
    "\n",
    "# Prepare the seed text for the gap generation\n",
    "seed_text = text_before_gap\n",
    "sequence_seed = tokenizer.texts_to_sequences([seed_text])[0]\n",
    "seed_text_length = len(sequence_seed)\n",
    "\n",
    "# Generate the sequence for the gap\n",
    "results = generate_seq_beam_search(model, tokenizer, sequence_length, sequence_seed, gap_length_estimate, beam_width=3)\n",
    "best_sequence = results[0]['seq']\n",
    "\n",
    "# Convert the sequence of indices to words\n",
    "predicted_gap_content = ' '.join(tokenizer.index_word.get(idx, '') for idx in best_sequence[seed_text_length:])\n",
    "\n",
    "# Merge the content to complete the sentence\n",
    "completed_sentence = text_before_gap + ' ' + predicted_gap_content + ' ' + text_after_gap\n",
    "print(completed_sentence)"
   ]
  },
  {
   "cell_type": "code",
   "execution_count": null,
   "id": "274d5dfb",
   "metadata": {},
   "outputs": [],
   "source": []
  }
 ],
 "metadata": {
  "kernelspec": {
   "display_name": "Python 3 (ipykernel)",
   "language": "python",
   "name": "python3"
  },
  "language_info": {
   "codemirror_mode": {
    "name": "ipython",
    "version": 3
   },
   "file_extension": ".py",
   "mimetype": "text/x-python",
   "name": "python",
   "nbconvert_exporter": "python",
   "pygments_lexer": "ipython3",
   "version": "3.9.18"
  }
 },
 "nbformat": 4,
 "nbformat_minor": 5
}
