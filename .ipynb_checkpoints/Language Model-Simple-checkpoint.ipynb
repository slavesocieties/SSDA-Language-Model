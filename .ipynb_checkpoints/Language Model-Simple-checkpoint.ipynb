{
 "cells": [
  {
   "cell_type": "code",
   "execution_count": 8,
   "id": "9379cd55",
   "metadata": {
    "scrolled": true
   },
   "outputs": [
    {
     "name": "stdout",
     "output_type": "stream",
     "text": [
      "Collecting tokenizers\n",
      "  Downloading tokenizers-0.13.3-cp38-cp38-win_amd64.whl (3.5 MB)\n",
      "     ---------------------------------------- 3.5/3.5 MB 36.8 MB/s eta 0:00:00\n",
      "Installing collected packages: tokenizers\n",
      "Successfully installed tokenizers-0.13.3\n"
     ]
    },
    {
     "name": "stderr",
     "output_type": "stream",
     "text": [
      "\n",
      "[notice] A new release of pip is available: 23.0.1 -> 23.1.2\n",
      "[notice] To update, run: python.exe -m pip install --upgrade pip\n"
     ]
    },
    {
     "name": "stdout",
     "output_type": "stream",
     "text": [
      "Collecting torch\n",
      "  Downloading torch-2.0.1-cp38-cp38-win_amd64.whl (172.4 MB)\n",
      "     ------------------------------------- 172.4/172.4 MB 24.3 MB/s eta 0:00:00\n",
      "Requirement already satisfied: typing-extensions in c:\\users\\daniel\\miniconda3\\lib\\site-packages (from torch) (3.10.0.2)\n",
      "Requirement already satisfied: networkx in c:\\users\\daniel\\miniconda3\\lib\\site-packages (from torch) (2.5.1)\n",
      "Collecting filelock\n",
      "  Downloading filelock-3.12.0-py3-none-any.whl (10 kB)\n",
      "Requirement already satisfied: jinja2 in c:\\users\\daniel\\miniconda3\\lib\\site-packages (from torch) (3.1.2)\n",
      "Collecting sympy\n",
      "  Downloading sympy-1.12-py3-none-any.whl (5.7 MB)\n",
      "     ---------------------------------------- 5.7/5.7 MB 61.6 MB/s eta 0:00:00\n",
      "Requirement already satisfied: MarkupSafe>=2.0 in c:\\users\\daniel\\miniconda3\\lib\\site-packages (from jinja2->torch) (2.1.2)\n",
      "Requirement already satisfied: decorator<5,>=4.3 in c:\\users\\daniel\\miniconda3\\lib\\site-packages (from networkx->torch) (4.4.2)\n",
      "Collecting mpmath>=0.19\n",
      "  Downloading mpmath-1.3.0-py3-none-any.whl (536 kB)\n",
      "     ------------------------------------- 536.2/536.2 kB 32.9 MB/s eta 0:00:00\n",
      "Installing collected packages: mpmath, sympy, filelock, torch\n",
      "Successfully installed filelock-3.12.0 mpmath-1.3.0 sympy-1.12 torch-2.0.1\n"
     ]
    },
    {
     "name": "stderr",
     "output_type": "stream",
     "text": [
      "\n",
      "[notice] A new release of pip is available: 23.0.1 -> 23.1.2\n",
      "[notice] To update, run: python.exe -m pip install --upgrade pip\n"
     ]
    },
    {
     "name": "stdout",
     "output_type": "stream",
     "text": [
      "Collecting transformers\n",
      "  Downloading transformers-4.29.1-py3-none-any.whl (7.1 MB)\n",
      "     ---------------------------------------- 7.1/7.1 MB 21.5 MB/s eta 0:00:00\n",
      "Requirement already satisfied: packaging>=20.0 in c:\\users\\daniel\\miniconda3\\lib\\site-packages (from transformers) (21.3)\n",
      "Requirement already satisfied: requests in c:\\users\\daniel\\miniconda3\\lib\\site-packages (from transformers) (2.24.0)\n",
      "Requirement already satisfied: numpy>=1.17 in c:\\users\\daniel\\miniconda3\\lib\\site-packages (from transformers) (1.23.4)\n",
      "Requirement already satisfied: tokenizers!=0.11.3,<0.14,>=0.11.1 in c:\\users\\daniel\\miniconda3\\lib\\site-packages (from transformers) (0.13.3)\n",
      "Requirement already satisfied: regex!=2019.12.17 in c:\\users\\daniel\\miniconda3\\lib\\site-packages (from transformers) (2020.11.13)\n",
      "Requirement already satisfied: pyyaml>=5.1 in c:\\users\\daniel\\miniconda3\\lib\\site-packages (from transformers) (5.3.1)\n",
      "Requirement already satisfied: tqdm>=4.27 in c:\\users\\daniel\\miniconda3\\lib\\site-packages (from transformers) (4.51.0)\n",
      "Collecting huggingface-hub<1.0,>=0.14.1\n",
      "  Downloading huggingface_hub-0.14.1-py3-none-any.whl (224 kB)\n",
      "     ---------------------------------------- 224.5/224.5 kB ? eta 0:00:00\n",
      "Requirement already satisfied: filelock in c:\\users\\daniel\\miniconda3\\lib\\site-packages (from transformers) (3.12.0)\n",
      "Requirement already satisfied: typing-extensions>=3.7.4.3 in c:\\users\\daniel\\miniconda3\\lib\\site-packages (from huggingface-hub<1.0,>=0.14.1->transformers) (3.10.0.2)\n",
      "Collecting fsspec\n",
      "  Downloading fsspec-2023.5.0-py3-none-any.whl (160 kB)\n",
      "     ------------------------------------- 160.1/160.1 kB 10.0 MB/s eta 0:00:00\n",
      "Requirement already satisfied: pyparsing!=3.0.5,>=2.0.2 in c:\\users\\daniel\\miniconda3\\lib\\site-packages (from packaging>=20.0->transformers) (2.4.7)\n",
      "Requirement already satisfied: chardet<4,>=3.0.2 in c:\\users\\daniel\\miniconda3\\lib\\site-packages (from requests->transformers) (3.0.4)\n",
      "Requirement already satisfied: urllib3!=1.25.0,!=1.25.1,<1.26,>=1.21.1 in c:\\users\\daniel\\miniconda3\\lib\\site-packages (from requests->transformers) (1.25.11)\n",
      "Requirement already satisfied: certifi>=2017.4.17 in c:\\users\\daniel\\miniconda3\\lib\\site-packages (from requests->transformers) (2020.12.5)\n",
      "Requirement already satisfied: idna<3,>=2.5 in c:\\users\\daniel\\miniconda3\\lib\\site-packages (from requests->transformers) (2.10)\n",
      "Installing collected packages: fsspec, huggingface-hub, transformers\n",
      "Successfully installed fsspec-2023.5.0 huggingface-hub-0.14.1 transformers-4.29.1\n"
     ]
    },
    {
     "name": "stderr",
     "output_type": "stream",
     "text": [
      "\n",
      "[notice] A new release of pip is available: 23.0.1 -> 23.1.2\n",
      "[notice] To update, run: python.exe -m pip install --upgrade pip\n"
     ]
    }
   ],
   "source": [
    "#Install package\n",
    "\"\"\"! pip install tokenizers\n",
    "! pip install torch\n",
    "! pip install transformers\"\"\""
   ]
  },
  {
   "cell_type": "code",
   "execution_count": 1,
   "id": "secondary-massachusetts",
   "metadata": {},
   "outputs": [],
   "source": [
    "import os\n",
    "from pathlib import Path\n",
    "from tokenizers import ByteLevelBPETokenizer\n",
    "\n",
    "#change this to reflect your local file system\n",
    "repo_root = \"C:\\\\Users\\\\Daniel\\\\SSDA-Language-Model\""
   ]
  },
  {
   "cell_type": "code",
   "execution_count": 18,
   "id": "vulnerable-custom",
   "metadata": {},
   "outputs": [],
   "source": [
    "#only need to be built once (or not at all if you've grabbed my branch)\n",
    "\n",
    "master = open(repo_root + \"\\\\data\\\\txt\\\\master.txt\", \"w\", encoding=\"utf-8\")\n",
    "\n",
    "for folder, subfolders, files in os.walk(\".\"):\n",
    "    for file in files:\n",
    "        if \"xml\" in file:\n",
    "            with open(os.path.join(repo_root, \"data\", \"xml\", file), \"r\", encoding=\"utf-8\") as infile:\n",
    "                with open(os.path.join(repo_root, \"data\", \"txt\", file[:file.find(\".\")] + \".txt\"), \"w\", encoding=\"utf-8\") as outfile:\n",
    "                    for line in infile:\n",
    "                        if (\"<\" in line) or (len(line) <= 1):\n",
    "                            continue                        \n",
    "                        if line[len(line) - 2] == \"-\":\n",
    "                            line = line[:len(line) - 2]\n",
    "                        else:\n",
    "                            line = line.replace(\"\\n\", \" \")\n",
    "                        while line.find(\"  \") != -1:\n",
    "                            line = line.replace(\"  \", \" \")\n",
    "                        if line[0] == \" \":\n",
    "                            line = line[1:]\n",
    "                        outfile.write(line)\n",
    "                        master.write(line)\n",
    "                        \n",
    "master.close()"
   ]
  },
  {
   "cell_type": "code",
   "execution_count": 2,
   "id": "medical-scene",
   "metadata": {},
   "outputs": [
    {
     "data": {
      "text/plain": [
       "['C:\\\\Users\\\\Daniel\\\\SSDA-Language-Model\\\\data\\\\txt\\\\15834_cleaned.txt',\n",
       " 'C:\\\\Users\\\\Daniel\\\\SSDA-Language-Model\\\\data\\\\txt\\\\166470_cleaned.txt',\n",
       " 'C:\\\\Users\\\\Daniel\\\\SSDA-Language-Model\\\\data\\\\txt\\\\1795_cleaned.txt',\n",
       " 'C:\\\\Users\\\\Daniel\\\\SSDA-Language-Model\\\\data\\\\txt\\\\22152_cleaned.txt',\n",
       " 'C:\\\\Users\\\\Daniel\\\\SSDA-Language-Model\\\\data\\\\txt\\\\239746_cleaned.txt',\n",
       " 'C:\\\\Users\\\\Daniel\\\\SSDA-Language-Model\\\\data\\\\txt\\\\30590_cleaned.txt',\n",
       " 'C:\\\\Users\\\\Daniel\\\\SSDA-Language-Model\\\\data\\\\txt\\\\419324_cleaned.txt',\n",
       " 'C:\\\\Users\\\\Daniel\\\\SSDA-Language-Model\\\\data\\\\txt\\\\701075_cleaned.txt',\n",
       " 'C:\\\\Users\\\\Daniel\\\\SSDA-Language-Model\\\\data\\\\txt\\\\8186_cleaned.txt']"
      ]
     },
     "execution_count": 2,
     "metadata": {},
     "output_type": "execute_result"
    }
   ],
   "source": [
    "paths = []\n",
    "\n",
    "for folder, subfolders, files in os.walk(\".\"):\n",
    "    for file in files:\n",
    "        if \"txt\" in file and \"m\" not in file:            \n",
    "            paths.append(os.path.join(repo_root, \"data\", \"txt\", file))\n",
    "            \n",
    "paths"
   ]
  },
  {
   "cell_type": "code",
   "execution_count": 3,
   "id": "60b20b57",
   "metadata": {},
   "outputs": [
    {
     "data": {
      "text/plain": [
       "['ssda\\\\vocab.json', 'ssda\\\\merges.txt']"
      ]
     },
     "execution_count": 3,
     "metadata": {},
     "output_type": "execute_result"
    }
   ],
   "source": [
    "#paths = [str(x) for x in Path(\"./eo_data/\").glob(\"**/*.txt\")]\n",
    "\n",
    "# Initialize a tokenizer\n",
    "tokenizer = ByteLevelBPETokenizer()\n",
    "\n",
    "# Customize training\n",
    "tokenizer.train(files=paths, vocab_size=52_000, min_frequency=2, special_tokens=[\n",
    "    \"<s>\",\n",
    "    \"<pad>\",\n",
    "    \"</s>\",\n",
    "    \"<unk>\",\n",
    "    \"<mask>\",\n",
    "])\n",
    "\n",
    "# Save files to disk\n",
    "#tokenizer.save_model(\".\", \"esperberto\")\n",
    "tokenizer.save_model(\"ssda\")"
   ]
  },
  {
   "cell_type": "code",
   "execution_count": 4,
   "id": "0333a4b0",
   "metadata": {},
   "outputs": [
    {
     "name": "stdout",
     "output_type": "stream",
     "text": [
      "['<s>', 'D', 'om', 'in', 'go', 'Ġveinte', 'Ġy', 'Ġocho', 'Ġde', 'ĠAbril', 'Ġde', 'Ġmil', 'Ġsetecientos', 'Ġy', 'Ġveinte', 'Ġanos', 'ĠYo', 'ĠThomas', 'Ġde', 'ĠOrvera', 'Ġcura', 'Ġde', 'Ġesta', 'ĠYglesia', '</s>']\n"
     ]
    }
   ],
   "source": [
    "from tokenizers.implementations import ByteLevelBPETokenizer\n",
    "from tokenizers.processors import BertProcessing\n",
    "\n",
    "\n",
    "tokenizer = ByteLevelBPETokenizer(\"./ssda/vocab.json\", \"./ssda/merges.txt\")\n",
    "\n",
    "tokenizer._tokenizer.post_processor = BertProcessing(\n",
    "    (\"</s>\", tokenizer.token_to_id(\"</s>\")),\n",
    "    (\"<s>\", tokenizer.token_to_id(\"<s>\")),\n",
    ")\n",
    "tokenizer.enable_truncation(max_length=512)\n",
    "\n",
    "print(\n",
    "    tokenizer.encode(\"Domingo veinte y ocho de Abril de mil setecientos y veinte anos Yo Thomas de Orvera cura de esta Yglesia\").tokens\n",
    ")\n",
    "# Encoding(num_tokens=7, ...)\n",
    "# tokens: ['<s>', 'Mi', 'Ġestas', 'ĠJuli', 'en', '.', '</s>']"
   ]
  },
  {
   "cell_type": "code",
   "execution_count": 5,
   "id": "8232e827",
   "metadata": {},
   "outputs": [],
   "source": [
    "import torch\n",
    "from torch.utils.data import Dataset\n",
    "\n",
    "class SsdaDataset(Dataset):\n",
    "    def __init__(self, evaluate: bool = False):\n",
    "        tokenizer = ByteLevelBPETokenizer(\n",
    "            \"./ssda/vocab.json\",\n",
    "            \"./ssda/merges.txt\",\n",
    "        )\n",
    "        tokenizer._tokenizer.post_processor = BertProcessing(\n",
    "            (\"</s>\", tokenizer.token_to_id(\"</s>\")),\n",
    "            (\"<s>\", tokenizer.token_to_id(\"<s>\")),\n",
    "        )\n",
    "        tokenizer.enable_truncation(max_length=512)\n",
    "        # or use the RobertaTokenizer from `transformers` directly.\n",
    "\n",
    "        self.examples = []\n",
    "\n",
    "        src_files = Path(\"./data/\").glob(\"*-eval.txt\") if evaluate else Path(\"./data/txt\").glob(\"*_cleaned.txt\")        \n",
    "        for src_file in src_files:\n",
    "            print(\"🔥\", src_file)\n",
    "            lines = src_file.read_text(encoding=\"utf-8\").splitlines()\n",
    "            self.examples += [x.ids for x in tokenizer.encode_batch(lines)]\n",
    "\n",
    "    def __len__(self):\n",
    "        return len(self.examples)\n",
    "\n",
    "    def __getitem__(self, i):\n",
    "        # We’ll pad at the batch level.\n",
    "        return torch.tensor(self.examples[i])"
   ]
  },
  {
   "cell_type": "code",
   "execution_count": 6,
   "id": "changed-ceramic",
   "metadata": {},
   "outputs": [],
   "source": [
    "from transformers import RobertaConfig\n",
    "\n",
    "config = RobertaConfig(\n",
    "    vocab_size=52_000,\n",
    "    max_position_embeddings=514,\n",
    "    num_attention_heads=12,\n",
    "    num_hidden_layers=6,\n",
    "    type_vocab_size=1,\n",
    ")"
   ]
  },
  {
   "cell_type": "code",
   "execution_count": 7,
   "id": "contrary-honey",
   "metadata": {},
   "outputs": [],
   "source": [
    "from transformers import RobertaTokenizerFast\n",
    "\n",
    "tokenizer = RobertaTokenizerFast.from_pretrained(\"./ssda\", max_len=512)"
   ]
  },
  {
   "cell_type": "code",
   "execution_count": 9,
   "id": "composite-lancaster",
   "metadata": {},
   "outputs": [],
   "source": [
    "from transformers import RobertaForMaskedLM\n",
    "\n",
    "model = RobertaForMaskedLM(config=config)"
   ]
  },
  {
   "cell_type": "code",
   "execution_count": 8,
   "id": "indian-playlist",
   "metadata": {},
   "outputs": [
    {
     "name": "stdout",
     "output_type": "stream",
     "text": [
      "🔥 data\\txt\\15834_cleaned.txt\n",
      "🔥 data\\txt\\166470_cleaned.txt\n",
      "🔥 data\\txt\\1795_cleaned.txt\n",
      "🔥 data\\txt\\22152_cleaned.txt\n",
      "🔥 data\\txt\\239746_cleaned.txt\n",
      "🔥 data\\txt\\30590_cleaned.txt\n",
      "🔥 data\\txt\\419324_cleaned.txt\n",
      "🔥 data\\txt\\701075_cleaned.txt\n",
      "🔥 data\\txt\\8186_cleaned.txt\n"
     ]
    }
   ],
   "source": [
    "dataset = SsdaDataset()"
   ]
  },
  {
   "cell_type": "code",
   "execution_count": 10,
   "id": "seasonal-earth",
   "metadata": {},
   "outputs": [],
   "source": [
    "from transformers import DataCollatorForLanguageModeling\n",
    "\n",
    "data_collator = DataCollatorForLanguageModeling(\n",
    "    tokenizer=tokenizer, mlm=True, mlm_probability=0.15\n",
    ")"
   ]
  },
  {
   "cell_type": "code",
   "execution_count": 17,
   "id": "whole-bulgaria",
   "metadata": {},
   "outputs": [
    {
     "name": "stderr",
     "output_type": "stream",
     "text": [
      "Using deprecated `--per_gpu_train_batch_size` argument which will be removed in a future version. Using `--per_device_train_batch_size` is preferred.\n"
     ]
    }
   ],
   "source": [
    "from transformers import Trainer, TrainingArguments\n",
    "\n",
    "training_args = TrainingArguments(\n",
    "    output_dir=\"./ssda\",\n",
    "    overwrite_output_dir=True,\n",
    "    num_train_epochs=5,\n",
    "    per_device_train_batch_size=16,\n",
    "    save_steps=2000,\n",
    "    save_total_limit=2,\n",
    "    prediction_loss_only=True,\n",
    ")\n",
    "\n",
    "trainer = Trainer(\n",
    "    model=model,\n",
    "    args=training_args,\n",
    "    data_collator=data_collator,\n",
    "    train_dataset=dataset,\n",
    ")"
   ]
  },
  {
   "cell_type": "code",
   "execution_count": 18,
   "id": "republican-tissue",
   "metadata": {},
   "outputs": [
    {
     "name": "stderr",
     "output_type": "stream",
     "text": [
      "Using deprecated `--per_gpu_train_batch_size` argument which will be removed in a future version. Using `--per_device_train_batch_size` is preferred.\n",
      "Using deprecated `--per_gpu_train_batch_size` argument which will be removed in a future version. Using `--per_device_train_batch_size` is preferred.\n",
      "Using deprecated `--per_gpu_train_batch_size` argument which will be removed in a future version. Using `--per_device_train_batch_size` is preferred.\n"
     ]
    },
    {
     "data": {
      "text/html": [
       "\n",
       "    <div>\n",
       "      \n",
       "      <progress value='5' max='5' style='width:300px; height:20px; vertical-align: middle;'></progress>\n",
       "      [5/5 00:52, Epoch 5/5]\n",
       "    </div>\n",
       "    <table border=\"1\" class=\"dataframe\">\n",
       "  <thead>\n",
       " <tr style=\"text-align: left;\">\n",
       "      <th>Step</th>\n",
       "      <th>Training Loss</th>\n",
       "    </tr>\n",
       "  </thead>\n",
       "  <tbody>\n",
       "  </tbody>\n",
       "</table><p>"
      ],
      "text/plain": [
       "<IPython.core.display.HTML object>"
      ]
     },
     "metadata": {},
     "output_type": "display_data"
    },
    {
     "name": "stdout",
     "output_type": "stream",
     "text": [
      "Wall time: 1min 5s\n"
     ]
    },
    {
     "data": {
      "text/plain": [
       "TrainOutput(global_step=5, training_loss=9.909432983398437, metrics={'train_runtime': 65.2056, 'train_samples_per_second': 0.69, 'train_steps_per_second': 0.077, 'total_flos': 5968221143040.0, 'train_loss': 9.909432983398437, 'epoch': 5.0})"
      ]
     },
     "execution_count": 18,
     "metadata": {},
     "output_type": "execute_result"
    }
   ],
   "source": [
    "%%time\n",
    "trainer.train()"
   ]
  },
  {
   "cell_type": "code",
   "execution_count": 19,
   "id": "psychological-ancient",
   "metadata": {},
   "outputs": [],
   "source": [
    "trainer.save_model(\"./ssda\")"
   ]
  },
  {
   "cell_type": "code",
   "execution_count": 20,
   "id": "iraqi-alpha",
   "metadata": {},
   "outputs": [],
   "source": [
    "from transformers import pipeline\n",
    "\n",
    "fill_mask = pipeline(\n",
    "    \"fill-mask\",\n",
    "    model=\"./ssda\",\n",
    "    tokenizer=\"./ssda\"\n",
    ")"
   ]
  },
  {
   "cell_type": "code",
   "execution_count": 21,
   "id": "retired-vehicle",
   "metadata": {},
   "outputs": [
    {
     "data": {
      "text/plain": [
       "[{'score': 0.014827295206487179,\n",
       "  'token': 262,\n",
       "  'token_str': ' de',\n",
       "  'sequence': 'Abril de mil setecientos y veinte de'},\n",
       " {'score': 0.001350634964182973,\n",
       "  'token': 16,\n",
       "  'token_str': ',',\n",
       "  'sequence': 'Abril de mil setecientos y veinte,'},\n",
       " {'score': 0.0005484608700498939,\n",
       "  'token': 264,\n",
       "  'token_str': ' y',\n",
       "  'sequence': 'Abril de mil setecientos y veinte y'},\n",
       " {'score': 0.00018309771257918328,\n",
       "  'token': 316,\n",
       "  'token_str': ' [',\n",
       "  'sequence': 'Abril de mil setecientos y veinte ['},\n",
       " {'score': 0.0001431540586054325,\n",
       "  'token': 7533,\n",
       "  'token_str': ' jurisdccion',\n",
       "  'sequence': 'Abril de mil setecientos y veinte jurisdccion'}]"
      ]
     },
     "execution_count": 21,
     "metadata": {},
     "output_type": "execute_result"
    }
   ],
   "source": [
    "fill_mask(\"Abril de mil setecientos y veinte <mask>\")"
   ]
  },
  {
   "cell_type": "code",
   "execution_count": null,
   "id": "touched-fellow",
   "metadata": {},
   "outputs": [],
   "source": []
  }
 ],
 "metadata": {
  "kernelspec": {
   "display_name": "Python 3",
   "language": "python",
   "name": "python3"
  },
  "language_info": {
   "codemirror_mode": {
    "name": "ipython",
    "version": 3
   },
   "file_extension": ".py",
   "mimetype": "text/x-python",
   "name": "python",
   "nbconvert_exporter": "python",
   "pygments_lexer": "ipython3",
   "version": "3.8.5"
  }
 },
 "nbformat": 4,
 "nbformat_minor": 5
}
