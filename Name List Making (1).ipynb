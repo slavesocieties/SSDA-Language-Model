{
 "cells": [
  {
   "cell_type": "code",
   "execution_count": 23,
   "id": "b9847bb2",
   "metadata": {},
   "outputs": [],
   "source": [
    "import json\n",
    "\n",
    "file_path = 'names.json'\n",
    "\n",
    "with open(file_path, 'r', encoding='utf-8') as file:\n",
    "    data = json.load(file)\n",
    "\n",
    "name_list = [item['name'] for item in data['names']]\n",
    "\n",
    "\n"
   ]
  },
  {
   "cell_type": "code",
   "execution_count": 24,
   "id": "d3136957",
   "metadata": {},
   "outputs": [],
   "source": [
    "import re\n",
    "\n",
    "with open('15834_cleaned.txt', 'r', encoding='utf-8') as file:\n",
    "    file_content = file.read()\n",
    "\n",
    "def clean_dataset(data):\n",
    "    cleaned_data = re.sub(r'<.*?>', '', data)\n",
    "    print(cleaned_data)  \n",
    "#    cleaned_data = cleaned_data.replace(\"\\n\", \" \").strip()\n",
    "#    print(\"After newline replacement and stripping:\")\n",
    "#    print(cleaned_data)  \n",
    "    return cleaned_data\n",
    "\n",
    "#cleaned_output = clean_dataset(file_content)\n",
    "#print(cleaned_output) \n"
   ]
  },
  {
   "cell_type": "code",
   "execution_count": 25,
   "id": "b2417fd2",
   "metadata": {
    "scrolled": true
   },
   "outputs": [],
   "source": [
    "name_list = name_list  \n",
    "data = cleaned_output\n",
    "\n",
    "def remove_names(data, name_list):\n",
    "    for name in name_list:\n",
    "        data = data.replace(name, '')\n",
    "    return data\n",
    "\n",
    "def remove_short_lines(data):\n",
    "    lines = data.split('\\n')\n",
    "    cleaned_lines = [line for line in lines if len(line.split()) >= 5]\n",
    "    return '\\n'.join(cleaned_lines)\n",
    "\n",
    "data_without_names = remove_names(data, name_list)\n",
    "cleaned_data = remove_short_lines(data_without_names)\n",
    "\n",
    "# Printing the cleaned data\n",
    "#print(cleaned_data)\n"
   ]
  }
 ],
 "metadata": {
  "kernelspec": {
   "display_name": "Python 3 (ipykernel)",
   "language": "python",
   "name": "python3"
  },
  "language_info": {
   "codemirror_mode": {
    "name": "ipython",
    "version": 3
   },
   "file_extension": ".py",
   "mimetype": "text/x-python",
   "name": "python",
   "nbconvert_exporter": "python",
   "pygments_lexer": "ipython3",
   "version": "3.9.7"
  }
 },
 "nbformat": 4,
 "nbformat_minor": 5
}
