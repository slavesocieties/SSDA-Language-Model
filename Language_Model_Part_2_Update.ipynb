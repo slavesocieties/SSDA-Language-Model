{
  "nbformat": 4,
  "nbformat_minor": 0,
  "metadata": {
    "colab": {
      "provenance": []
    },
    "kernelspec": {
      "name": "python3",
      "display_name": "Python 3"
    },
    "language_info": {
      "name": "python"
    }
  },
  "cells": [
    {
      "cell_type": "code",
      "execution_count": 18,
      "metadata": {
        "id": "hlqPyebDG5HO"
      },
      "outputs": [],
      "source": [
        "import numpy as np\n",
        "import pandas as pd\n",
        "from tensorflow.keras.utils import to_categorical\n",
        "from tensorflow.keras.preprocessing.sequence import pad_sequences\n",
        "from tensorflow.keras.models import Sequential\n",
        "from tensorflow.keras.layers import LSTM, Dense, GRU, Embedding\n",
        "from tensorflow.keras.callbacks import EarlyStopping, ModelCheckpoint"
      ]
    },
    {
      "cell_type": "code",
      "source": [
        "# Data preprocessing\n",
        "data_text = \"\"\"\n",
        "Juana. esclava Domingo veinte y dos de y nueve yo Thomas de Orvera baptize, y pusse santos oleos a Juana de nacion Mina esclava de Juan Joseph de Justis fueron sus P.P. Joseph Salcedo y Ana de Santiago su mugger, y lo firmé. Thomas de Orvera Paula. esclava Juebes veinte y tres de febrero de mil setecientos. y diez y nueve Yo Thomas de Orvera baptizé, y pusse los santos15 oleos á Paula h. l.16 de Juan Joseph, y Maria Josepha esclavos del Capitán Don Luis Hurtado de Mendoza fue su padrino Bartholome Rixo, y lo firmé. Thomas de Orvera Maria esclava Miercoles primero de febrero de mil sietectos y diez y nueve Yo Thomas de Orvera baptizé, y pusse los santos oleos á Maria h. l. de Juan, y Josepha esclavos del Capitán Antonio Benites fue su Madrina Ysabel Mendez, y lo firmé. Thomas de Orvera Bernardo esclavo Domingo nueve de Abril de mil setecientos y diez y nueve Yo Thomas de Orvera baptize, y pusse los santos oleos á Bernardo negro adulto de nacion Carabalí esclavo de Don Juan Joseph de Justis fue su Padre. Andres de Morales, y lo firmé. Thomas de Orvera Francisco esclavo Abril de mil setecientos y diez, y nueve o Thmas de vera bapizé, y pusse los s.tos oleo a Francisco negro adulto de nacion temo esclavo de Don Ju Joseph de Justis fue su Padre. Pedro Suares, y lo firmé. Thomas de Orvera Antonio esclavo Domingo nueve de Abril de mil setecientos y diez y nueve Yo Thomas de Orvera baptize, y pusse los santos oleos á Antonio negro adulto de nacion Carabalí esclavo de Don Juan Joseph de Justis fue su Padre. Joseph de Soto, y lo firmé. Thomas de Orvera Antonia esclava Domingo nueve de Abril de mil setecientos y diez, y nueve Yo Thomas de Orvera baptize, y pusse los santos oleos á Antonia negra adulta de nacion Mina esclava de Don Juan Joseph de Justis fue su Padre. Joseph Salcedo, y lo firmé. Thomas de Orvera Maria Luisa esclava Domingo nueve de Abril de mil setecientos y diez, y nueve Yo Thomas de Orvera baptize, y puse los santos oleos á Maria Luisa de nacion Lucumí negra adulta esclava de Don Juan Joseph de Justis fue su Padre. Jacinto de Castro, y lo firmé.\n",
        "\"\"\"\n",
        "def text_cleaner(text):\n",
        "    newString = text.lower()\n",
        "    newString = re.sub(r\"'s\\b\",\"\",newString)\n",
        "    newString = re.sub(\"[^a-zA-Z]\", \" \", newString)\n",
        "    long_words=[]\n",
        "    for i in newString.split():\n",
        "        if len(i)>3:                  \n",
        "            long_words.append(i)\n",
        "    return (\" \".join(long_words)).strip()\n",
        "\n",
        "data_new = text_cleaner(data_text)"
      ],
      "metadata": {
        "id": "vE5pcRzxHR8H"
      },
      "execution_count": 19,
      "outputs": []
    },
    {
      "cell_type": "code",
      "source": [
        "#Preprocessing Part 2\n",
        "def create_seq(text, length = 30):\n",
        "    sequences = list()\n",
        "    for i in range(length, len(text)):\n",
        "        seq = text[i-length:i+1]\n",
        "        sequences.append(seq)\n",
        "    print('Total Sequences: %d' % len(sequences))\n",
        "    return sequences\n",
        "\n",
        "sequences = create_seq(data_new)"
      ],
      "metadata": {
        "colab": {
          "base_uri": "https://localhost:8080/"
        },
        "id": "0UFovlYuHjGh",
        "outputId": "c7b377a0-b943-4a35-bfa9-86395f0e2b7d"
      },
      "execution_count": 20,
      "outputs": [
        {
          "output_type": "stream",
          "name": "stdout",
          "text": [
            "Total Sequences: 1523\n"
          ]
        }
      ]
    },
    {
      "cell_type": "code",
      "source": [
        "# Create a character mapping index\n",
        "chars = sorted(list(set(data_new)))\n",
        "mapping = dict((c, i) for i, c in enumerate(chars))\n",
        "\n",
        "def encode_seq(seq):\n",
        "    sequences = list()\n",
        "    for line in seq:\n",
        "        encoded_seq = [mapping[char] for char in line]\n",
        "        sequences.append(encoded_seq)\n",
        "    return sequences\n",
        "\n",
        "sequences = encode_seq(sequences)"
      ],
      "metadata": {
        "id": "Ej1Rx_7YHpiB"
      },
      "execution_count": 21,
      "outputs": []
    },
    {
      "cell_type": "code",
      "source": [
        "from sklearn.model_selection import train_test_split\n",
        "from tensorflow.keras.optimizers import Adam\n",
        "# Prepare the dataset\n",
        "vocab = len(mapping)\n",
        "sequences = np.array(sequences)\n",
        "X, y = sequences[:,:-1], sequences[:,-1]\n",
        "y = to_categorical(y, num_classes=vocab)\n",
        "X_tr, X_val, y_tr, y_val = train_test_split(X, y, test_size=0.1, random_state=42)"
      ],
      "metadata": {
        "id": "XCOLHL2yHsou"
      },
      "execution_count": 22,
      "outputs": []
    },
    {
      "cell_type": "code",
      "source": [
        "# Define the model\n",
        "model = Sequential()\n",
        "model.add(Embedding(vocab, 50, input_length=30, trainable=True))\n",
        "model.add(GRU(150, recurrent_dropout=0.1, dropout=0.1))\n",
        "model.add(Dense(vocab, activation='softmax'))\n",
        "print(model.summary())\n",
        "model.compile(loss='categorical_crossentropy', metrics=['acc'], optimizer=Adam(lr=0.01))"
      ],
      "metadata": {
        "colab": {
          "base_uri": "https://localhost:8080/"
        },
        "id": "CQLCaogwH4mF",
        "outputId": "52607fb0-f50a-4cf3-eec6-888662ac2a03"
      },
      "execution_count": 23,
      "outputs": [
        {
          "output_type": "stream",
          "name": "stdout",
          "text": [
            "Model: \"sequential_2\"\n",
            "_________________________________________________________________\n",
            " Layer (type)                Output Shape              Param #   \n",
            "=================================================================\n",
            " embedding_2 (Embedding)     (None, 30, 50)            1200      \n",
            "                                                                 \n",
            " gru_2 (GRU)                 (None, 150)               90900     \n",
            "                                                                 \n",
            " dense_2 (Dense)             (None, 24)                3624      \n",
            "                                                                 \n",
            "=================================================================\n",
            "Total params: 95,724\n",
            "Trainable params: 95,724\n",
            "Non-trainable params: 0\n",
            "_________________________________________________________________\n"
          ]
        },
        {
          "output_type": "stream",
          "name": "stderr",
          "text": [
            "WARNING:absl:`lr` is deprecated in Keras optimizer, please use `learning_rate` or use the legacy optimizer, e.g.,tf.keras.optimizers.legacy.Adam.\n"
          ]
        },
        {
          "output_type": "stream",
          "name": "stdout",
          "text": [
            "None\n"
          ]
        }
      ]
    },
    {
      "cell_type": "code",
      "source": [
        "callbacks = [EarlyStopping(monitor='val_loss', patience=5),\n",
        "             ModelCheckpoint('model.h5', save_best_only=True, \n",
        "             save_weights_only=False, monitor='val_loss')]\n",
        "\n",
        "# Fit the model\n",
        "history = model.fit(X_tr, y_tr, epochs=10, batch_size=256, #Manually set to 10 to make it run faster\n",
        "                    verbose=1, callbacks=callbacks, validation_data=(X_val, y_val))"
      ],
      "metadata": {
        "colab": {
          "base_uri": "https://localhost:8080/"
        },
        "id": "HCVthOJtIXpl",
        "outputId": "df06f563-1397-4809-a439-35041917bd92"
      },
      "execution_count": 24,
      "outputs": [
        {
          "output_type": "stream",
          "name": "stdout",
          "text": [
            "Epoch 1/10\n",
            "6/6 [==============================] - 7s 458ms/step - loss: 3.1645 - acc: 0.1307 - val_loss: 3.1409 - val_acc: 0.1373\n",
            "Epoch 2/10\n",
            "6/6 [==============================] - 2s 285ms/step - loss: 3.1017 - acc: 0.1679 - val_loss: 3.0510 - val_acc: 0.1307\n",
            "Epoch 3/10\n",
            "6/6 [==============================] - 2s 289ms/step - loss: 2.9442 - acc: 0.1460 - val_loss: 2.9831 - val_acc: 0.1307\n",
            "Epoch 4/10\n",
            "6/6 [==============================] - 2s 283ms/step - loss: 2.8366 - acc: 0.1460 - val_loss: 2.9197 - val_acc: 0.1307\n",
            "Epoch 5/10\n",
            "6/6 [==============================] - 2s 282ms/step - loss: 2.8210 - acc: 0.1599 - val_loss: 2.9458 - val_acc: 0.1634\n",
            "Epoch 6/10\n",
            "6/6 [==============================] - 2s 347ms/step - loss: 2.8035 - acc: 0.1606 - val_loss: 2.8998 - val_acc: 0.1307\n",
            "Epoch 7/10\n",
            "6/6 [==============================] - 3s 451ms/step - loss: 2.7846 - acc: 0.1460 - val_loss: 2.8842 - val_acc: 0.1307\n",
            "Epoch 8/10\n",
            "6/6 [==============================] - 2s 304ms/step - loss: 2.7680 - acc: 0.1533 - val_loss: 2.8874 - val_acc: 0.1307\n",
            "Epoch 9/10\n",
            "6/6 [==============================] - 2s 285ms/step - loss: 2.7448 - acc: 0.1796 - val_loss: 2.8554 - val_acc: 0.1242\n",
            "Epoch 10/10\n",
            "6/6 [==============================] - 2s 289ms/step - loss: 2.7158 - acc: 0.1818 - val_loss: 2.8472 - val_acc: 0.1373\n"
          ]
        }
      ]
    },
    {
      "cell_type": "code",
      "source": [
        "def generate_seq(model, mapping, seq_length, seed_text, n_chars):\n",
        "    import heapq\n",
        "    in_text = seed_text\n",
        "    predictions = []\n",
        "    # generate a fixed number of characters\n",
        "    for _ in range(n_chars):\n",
        "        # encode the characters as integers\n",
        "        encoded = [mapping[char] for char in in_text]\n",
        "        # truncate sequences to a fixed length\n",
        "        encoded = pad_sequences([encoded], maxlen=seq_length, truncating='pre').squeeze()\n",
        "        # predict character\n",
        "        pred = model.predict(np.array([encoded]), verbose=0)\n",
        "        # applying softmax to convert output into probabilities\n",
        "        probas = np.exp(pred) / np.sum(np.exp(pred))\n",
        "        # getting top 3 predictions\n",
        "        top_3 = heapq.nlargest(3, zip(probas[0], list(range(len(probas[0])))))\n",
        "        # reverse map integer to character for each prediction and store them\n",
        "        for score, idx in top_3:\n",
        "            out_char = ''\n",
        "            for char, index in mapping.items():\n",
        "                if index == idx:\n",
        "                    out_char = char\n",
        "                    break\n",
        "            # store the prediction information\n",
        "            predictions.append({'score': float(score), 'token': idx, 'token_str': out_char, 'sequence': in_text + out_char})\n",
        "        # continue generating based on the top prediction\n",
        "        in_text += predictions[-1]['token_str']\n",
        "    return predictions\n"
      ],
      "metadata": {
        "id": "NcOKTPxGImgI"
      },
      "execution_count": 25,
      "outputs": []
    },
    {
      "cell_type": "code",
      "source": [
        "print(generate_seq(model, mapping, 30, 'juana esclava domingo', 100))"
      ],
      "metadata": {
        "colab": {
          "base_uri": "https://localhost:8080/"
        },
        "id": "WqF5O2_JIqO7",
        "outputId": "1a6402b8-dcba-4c43-ee09-6ea461cd444f"
      },
      "execution_count": 26,
      "outputs": [
        {
          "output_type": "stream",
          "name": "stdout",
          "text": [
            "[{'score': 0.0499182753264904, 'token': 0, 'token_str': ' ', 'sequence': 'juana esclava domingo '}, {'score': 0.043836940079927444, 'token': 5, 'token_str': 'e', 'sequence': 'juana esclava domingoe'}, {'score': 0.043575968593358994, 'token': 17, 'token_str': 's', 'sequence': 'juana esclava domingos'}, {'score': 0.0505598708987236, 'token': 0, 'token_str': ' ', 'sequence': 'juana esclava domingos '}, {'score': 0.04469212889671326, 'token': 5, 'token_str': 'e', 'sequence': 'juana esclava domingose'}, {'score': 0.044177815318107605, 'token': 1, 'token_str': 'a', 'sequence': 'juana esclava domingosa'}, {'score': 0.05145537853240967, 'token': 0, 'token_str': ' ', 'sequence': 'juana esclava domingosa '}, {'score': 0.043647997081279755, 'token': 5, 'token_str': 'e', 'sequence': 'juana esclava domingosae'}, {'score': 0.04326777905225754, 'token': 17, 'token_str': 's', 'sequence': 'juana esclava domingosas'}, {'score': 0.051236290484666824, 'token': 0, 'token_str': ' ', 'sequence': 'juana esclava domingosas '}, {'score': 0.04461328312754631, 'token': 5, 'token_str': 'e', 'sequence': 'juana esclava domingosase'}, {'score': 0.04407374560832977, 'token': 1, 'token_str': 'a', 'sequence': 'juana esclava domingosasa'}, {'score': 0.051776304841041565, 'token': 0, 'token_str': ' ', 'sequence': 'juana esclava domingosasa '}, {'score': 0.04363614320755005, 'token': 5, 'token_str': 'e', 'sequence': 'juana esclava domingosasae'}, {'score': 0.04323926568031311, 'token': 17, 'token_str': 's', 'sequence': 'juana esclava domingosasas'}, {'score': 0.05138782039284706, 'token': 0, 'token_str': ' ', 'sequence': 'juana esclava domingosasas '}, {'score': 0.044630266726017, 'token': 5, 'token_str': 'e', 'sequence': 'juana esclava domingosasase'}, {'score': 0.04408072307705879, 'token': 1, 'token_str': 'a', 'sequence': 'juana esclava domingosasasa'}, {'score': 0.05187994986772537, 'token': 0, 'token_str': ' ', 'sequence': 'juana esclava domingosasasa '}, {'score': 0.0436551533639431, 'token': 5, 'token_str': 'e', 'sequence': 'juana esclava domingosasasae'}, {'score': 0.04323602095246315, 'token': 17, 'token_str': 's', 'sequence': 'juana esclava domingosasasas'}, {'score': 0.05145769193768501, 'token': 0, 'token_str': ' ', 'sequence': 'juana esclava domingosasasas '}, {'score': 0.044655539095401764, 'token': 5, 'token_str': 'e', 'sequence': 'juana esclava domingosasasase'}, {'score': 0.04409848153591156, 'token': 1, 'token_str': 'a', 'sequence': 'juana esclava domingosasasasa'}, {'score': 0.05194683372974396, 'token': 0, 'token_str': ' ', 'sequence': 'juana esclava domingosasasasa '}, {'score': 0.043671924620866776, 'token': 5, 'token_str': 'e', 'sequence': 'juana esclava domingosasasasae'}, {'score': 0.043235309422016144, 'token': 17, 'token_str': 's', 'sequence': 'juana esclava domingosasasasas'}, {'score': 0.0515093132853508, 'token': 0, 'token_str': ' ', 'sequence': 'juana esclava domingosasasasas '}, {'score': 0.044674526900053024, 'token': 5, 'token_str': 'e', 'sequence': 'juana esclava domingosasasasase'}, {'score': 0.044113315641880035, 'token': 1, 'token_str': 'a', 'sequence': 'juana esclava domingosasasasasa'}, {'score': 0.051998332142829895, 'token': 0, 'token_str': ' ', 'sequence': 'juana esclava domingosasasasasa '}, {'score': 0.04368387907743454, 'token': 5, 'token_str': 'e', 'sequence': 'juana esclava domingosasasasasae'}, {'score': 0.04323526844382286, 'token': 17, 'token_str': 's', 'sequence': 'juana esclava domingosasasasasas'}, {'score': 0.051541768014431, 'token': 0, 'token_str': ' ', 'sequence': 'juana esclava domingosasasasasas '}, {'score': 0.04468577355146408, 'token': 5, 'token_str': 'e', 'sequence': 'juana esclava domingosasasasasase'}, {'score': 0.04412248358130455, 'token': 1, 'token_str': 'a', 'sequence': 'juana esclava domingosasasasasasa'}, {'score': 0.05202488601207733, 'token': 0, 'token_str': ' ', 'sequence': 'juana esclava domingosasasasasasa '}, {'score': 0.043689828366041183, 'token': 5, 'token_str': 'e', 'sequence': 'juana esclava domingosasasasasasae'}, {'score': 0.04323966056108475, 'token': 1, 'token_str': 'a', 'sequence': 'juana esclava domingosasasasasasaa'}, {'score': 0.05237111449241638, 'token': 0, 'token_str': ' ', 'sequence': 'juana esclava domingosasasasasasaa '}, {'score': 0.04342984780669212, 'token': 5, 'token_str': 'e', 'sequence': 'juana esclava domingosasasasasasaae'}, {'score': 0.043250251561403275, 'token': 17, 'token_str': 's', 'sequence': 'juana esclava domingosasasasasasaas'}, {'score': 0.05170569568872452, 'token': 0, 'token_str': ' ', 'sequence': 'juana esclava domingosasasasasasaas '}, {'score': 0.04456962272524834, 'token': 5, 'token_str': 'e', 'sequence': 'juana esclava domingosasasasasasaase'}, {'score': 0.04402051493525505, 'token': 1, 'token_str': 'a', 'sequence': 'juana esclava domingosasasasasasaasa'}, {'score': 0.052046239376068115, 'token': 0, 'token_str': ' ', 'sequence': 'juana esclava domingosasasasasasaasa '}, {'score': 0.04364555701613426, 'token': 5, 'token_str': 'e', 'sequence': 'juana esclava domingosasasasasasaasae'}, {'score': 0.04322315752506256, 'token': 17, 'token_str': 's', 'sequence': 'juana esclava domingosasasasasasaasas'}, {'score': 0.05153942108154297, 'token': 0, 'token_str': ' ', 'sequence': 'juana esclava domingosasasasasasaasas '}, {'score': 0.044659458100795746, 'token': 5, 'token_str': 'e', 'sequence': 'juana esclava domingosasasasasasaasase'}, {'score': 0.04409618675708771, 'token': 1, 'token_str': 'a', 'sequence': 'juana esclava domingosasasasasasaasasa'}, {'score': 0.05198940262198448, 'token': 0, 'token_str': ' ', 'sequence': 'juana esclava domingosasasasasasaasasa '}, {'score': 0.04367555305361748, 'token': 5, 'token_str': 'e', 'sequence': 'juana esclava domingosasasasasasaasasae'}, {'score': 0.0432312972843647, 'token': 17, 'token_str': 's', 'sequence': 'juana esclava domingosasasasasasaasasas'}, {'score': 0.05153138190507889, 'token': 0, 'token_str': ' ', 'sequence': 'juana esclava domingosasasasasasaasasas '}, {'score': 0.04467959329485893, 'token': 5, 'token_str': 'e', 'sequence': 'juana esclava domingosasasasasasaasasase'}, {'score': 0.04411544278264046, 'token': 1, 'token_str': 'a', 'sequence': 'juana esclava domingosasasasasasaasasasa'}, {'score': 0.052009087055921555, 'token': 0, 'token_str': ' ', 'sequence': 'juana esclava domingosasasasasasaasasasa '}, {'score': 0.04368611052632332, 'token': 5, 'token_str': 'e', 'sequence': 'juana esclava domingosasasasasasaasasasae'}, {'score': 0.04323556274175644, 'token': 1, 'token_str': 'a', 'sequence': 'juana esclava domingosasasasasasaasasasaa'}, {'score': 0.05235881730914116, 'token': 0, 'token_str': ' ', 'sequence': 'juana esclava domingosasasasasasaasasasaa '}, {'score': 0.04342754930257797, 'token': 5, 'token_str': 'e', 'sequence': 'juana esclava domingosasasasasasaasasasaae'}, {'score': 0.04324936494231224, 'token': 17, 'token_str': 's', 'sequence': 'juana esclava domingosasasasasasaasasasaas'}, {'score': 0.05169445276260376, 'token': 0, 'token_str': ' ', 'sequence': 'juana esclava domingosasasasasasaasasasaas '}, {'score': 0.04456629976630211, 'token': 5, 'token_str': 'e', 'sequence': 'juana esclava domingosasasasasasaasasasaase'}, {'score': 0.04401698336005211, 'token': 1, 'token_str': 'a', 'sequence': 'juana esclava domingosasasasasasaasasasaasa'}, {'score': 0.05203089118003845, 'token': 0, 'token_str': ' ', 'sequence': 'juana esclava domingosasasasasasaasasasaasa '}, {'score': 0.043642569333314896, 'token': 5, 'token_str': 'e', 'sequence': 'juana esclava domingosasasasasasaasasasaasae'}, {'score': 0.04322263225913048, 'token': 17, 'token_str': 's', 'sequence': 'juana esclava domingosasasasasasaasasasaasas'}, {'score': 0.05153224989771843, 'token': 0, 'token_str': ' ', 'sequence': 'juana esclava domingosasasasasasaasasasaasas '}, {'score': 0.04465734586119652, 'token': 5, 'token_str': 'e', 'sequence': 'juana esclava domingosasasasasasaasasasaasase'}, {'score': 0.0440940223634243, 'token': 1, 'token_str': 'a', 'sequence': 'juana esclava domingosasasasasasaasasasaasasa'}, {'score': 0.051993198692798615, 'token': 0, 'token_str': ' ', 'sequence': 'juana esclava domingosasasasasasaasasasaasasa '}, {'score': 0.04367637261748314, 'token': 5, 'token_str': 'e', 'sequence': 'juana esclava domingosasasasasasaasasasaasasae'}, {'score': 0.043231215327978134, 'token': 17, 'token_str': 's', 'sequence': 'juana esclava domingosasasasasasaasasasaasasas'}, {'score': 0.0515299029648304, 'token': 0, 'token_str': ' ', 'sequence': 'juana esclava domingosasasasasasaasasasaasasas '}, {'score': 0.0446791872382164, 'token': 5, 'token_str': 'e', 'sequence': 'juana esclava domingosasasasasasaasasasaasasase'}, {'score': 0.04411495849490166, 'token': 1, 'token_str': 'a', 'sequence': 'juana esclava domingosasasasasasaasasasaasasasa'}, {'score': 0.052006449550390244, 'token': 0, 'token_str': ' ', 'sequence': 'juana esclava domingosasasasasasaasasasaasasasa '}, {'score': 0.043685607612133026, 'token': 5, 'token_str': 'e', 'sequence': 'juana esclava domingosasasasasasaasasasaasasasae'}, {'score': 0.04323507845401764, 'token': 1, 'token_str': 'a', 'sequence': 'juana esclava domingosasasasasasaasasasaasasasaa'}, {'score': 0.05235674977302551, 'token': 0, 'token_str': ' ', 'sequence': 'juana esclava domingosasasasasasaasasasaasasasaa '}, {'score': 0.04342718422412872, 'token': 5, 'token_str': 'e', 'sequence': 'juana esclava domingosasasasasasaasasasaasasasaae'}, {'score': 0.04324931651353836, 'token': 17, 'token_str': 's', 'sequence': 'juana esclava domingosasasasasasaasasasaasasasaas'}, {'score': 0.05169423297047615, 'token': 0, 'token_str': ' ', 'sequence': 'juana esclava domingosasasasasasaasasasaasasasaas '}, {'score': 0.04456624761223793, 'token': 5, 'token_str': 'e', 'sequence': 'juana esclava domingosasasasasasaasasasaasasasaase'}, {'score': 0.04401690512895584, 'token': 1, 'token_str': 'a', 'sequence': 'juana esclava domingosasasasasasaasasasaasasasaasa'}, {'score': 0.05203166604042053, 'token': 0, 'token_str': ' ', 'sequence': 'juana esclava domingosasasasasasaasasasaasasasaasa '}, {'score': 0.04364273324608803, 'token': 5, 'token_str': 'e', 'sequence': 'juana esclava domingosasasasasasaasasasaasasasaasae'}, {'score': 0.04322262853384018, 'token': 17, 'token_str': 's', 'sequence': 'juana esclava domingosasasasasasaasasasaasasasaasas'}, {'score': 0.051524385809898376, 'token': 0, 'token_str': ' ', 'sequence': 'juana esclava domingosasasasasasaasasasaasasasaasas '}, {'score': 0.04465494304895401, 'token': 5, 'token_str': 'e', 'sequence': 'juana esclava domingosasasasasasaasasasaasasasaasase'}, {'score': 0.044091854244470596, 'token': 1, 'token_str': 'a', 'sequence': 'juana esclava domingosasasasasasaasasasaasasasaasasa'}, {'score': 0.0519760325551033, 'token': 0, 'token_str': ' ', 'sequence': 'juana esclava domingosasasasasasaasasasaasasasaasasa '}, {'score': 0.04367292672395706, 'token': 5, 'token_str': 'e', 'sequence': 'juana esclava domingosasasasasasaasasasaasasasaasasae'}, {'score': 0.04323098435997963, 'token': 17, 'token_str': 's', 'sequence': 'juana esclava domingosasasasasasaasasasaasasasaasasas'}, {'score': 0.05152130872011185, 'token': 0, 'token_str': ' ', 'sequence': 'juana esclava domingosasasasasasaasasasaasasasaasasas '}, {'score': 0.04467656463384628, 'token': 5, 'token_str': 'e', 'sequence': 'juana esclava domingosasasasasasaasasasaasasasaasasase'}, {'score': 0.044112611562013626, 'token': 1, 'token_str': 'a', 'sequence': 'juana esclava domingosasasasasasaasasasaasasasaasasasa'}, {'score': 0.05199742689728737, 'token': 0, 'token_str': ' ', 'sequence': 'juana esclava domingosasasasasasaasasasaasasasaasasasa '}, {'score': 0.04368380084633827, 'token': 5, 'token_str': 'e', 'sequence': 'juana esclava domingosasasasasasaasasasaasasasaasasasae'}, {'score': 0.04323366656899452, 'token': 17, 'token_str': 's', 'sequence': 'juana esclava domingosasasasasasaasasasaasasasaasasasas'}, {'score': 0.051544319838285446, 'token': 0, 'token_str': ' ', 'sequence': 'juana esclava domingosasasasasasaasasasaasasasaasasasas '}, {'score': 0.04468698427081108, 'token': 5, 'token_str': 'e', 'sequence': 'juana esclava domingosasasasasasaasasasaasasasaasasasase'}, {'score': 0.044122327119112015, 'token': 1, 'token_str': 'a', 'sequence': 'juana esclava domingosasasasasasaasasasaasasasaasasasasa'}, {'score': 0.05202316492795944, 'token': 0, 'token_str': ' ', 'sequence': 'juana esclava domingosasasasasasaasasasaasasasaasasasasa '}, {'score': 0.04368983954191208, 'token': 5, 'token_str': 'e', 'sequence': 'juana esclava domingosasasasasasaasasasaasasasaasasasasae'}, {'score': 0.043238986283540726, 'token': 1, 'token_str': 'a', 'sequence': 'juana esclava domingosasasasasasaasasasaasasasaasasasasaa'}, {'score': 0.05237331986427307, 'token': 0, 'token_str': ' ', 'sequence': 'juana esclava domingosasasasasasaasasasaasasasaasasasasaa '}, {'score': 0.043430496007204056, 'token': 5, 'token_str': 'e', 'sequence': 'juana esclava domingosasasasasasaasasasaasasasaasasasasaae'}, {'score': 0.04324985295534134, 'token': 17, 'token_str': 's', 'sequence': 'juana esclava domingosasasasasasaasasasaasasasaasasasasaas'}, {'score': 0.05170344561338425, 'token': 0, 'token_str': ' ', 'sequence': 'juana esclava domingosasasasasasaasasasaasasasaasasasasaas '}, {'score': 0.04456916078925133, 'token': 5, 'token_str': 'e', 'sequence': 'juana esclava domingosasasasasasaasasasaasasasaasasasasaase'}, {'score': 0.04401974380016327, 'token': 1, 'token_str': 'a', 'sequence': 'juana esclava domingosasasasasasaasasasaasasasaasasasasaasa'}, {'score': 0.0520399734377861, 'token': 0, 'token_str': ' ', 'sequence': 'juana esclava domingosasasasasasaasasasaasasasaasasasasaasa '}, {'score': 0.04364442080259323, 'token': 5, 'token_str': 'e', 'sequence': 'juana esclava domingosasasasasasaasasasaasasasaasasasasaasae'}, {'score': 0.04322291538119316, 'token': 17, 'token_str': 's', 'sequence': 'juana esclava domingosasasasasasaasasasaasasasaasasasasaasas'}, {'score': 0.05153018981218338, 'token': 0, 'token_str': ' ', 'sequence': 'juana esclava domingosasasasasasaasasasaasasasaasasasasaasas '}, {'score': 0.04465671628713608, 'token': 5, 'token_str': 'e', 'sequence': 'juana esclava domingosasasasasasaasasasaasasasaasasasasaasase'}, {'score': 0.044093579053878784, 'token': 1, 'token_str': 'a', 'sequence': 'juana esclava domingosasasasasasaasasasaasasasaasasasasaasasa'}, {'score': 0.05198696255683899, 'token': 0, 'token_str': ' ', 'sequence': 'juana esclava domingosasasasasasaasasasaasasasaasasasasaasasa '}, {'score': 0.04367511719465256, 'token': 5, 'token_str': 'e', 'sequence': 'juana esclava domingosasasasasasaasasasaasasasaasasasasaasasae'}, {'score': 0.04323120042681694, 'token': 17, 'token_str': 's', 'sequence': 'juana esclava domingosasasasasasaasasasaasasasaasasasasaasasas'}, {'score': 0.05152469873428345, 'token': 0, 'token_str': ' ', 'sequence': 'juana esclava domingosasasasasasaasasasaasasasaasasasasaasasas '}, {'score': 0.04467758536338806, 'token': 5, 'token_str': 'e', 'sequence': 'juana esclava domingosasasasasasaasasasaasasasaasasasasaasasase'}, {'score': 0.04411358758807182, 'token': 1, 'token_str': 'a', 'sequence': 'juana esclava domingosasasasasasaasasasaasasasaasasasasaasasasa'}, {'score': 0.05200604721903801, 'token': 0, 'token_str': ' ', 'sequence': 'juana esclava domingosasasasasasaasasasaasasasaasasasasaasasasa '}, {'score': 0.04368552193045616, 'token': 5, 'token_str': 'e', 'sequence': 'juana esclava domingosasasasasasaasasasaasasasaasasasasaasasasae'}, {'score': 0.04323503375053406, 'token': 1, 'token_str': 'a', 'sequence': 'juana esclava domingosasasasasasaasasasaasasasaasasasasaasasasaa'}, {'score': 0.05235667526721954, 'token': 0, 'token_str': ' ', 'sequence': 'juana esclava domingosasasasasasaasasasaasasasaasasasasaasasasaa '}, {'score': 0.04342716559767723, 'token': 5, 'token_str': 'e', 'sequence': 'juana esclava domingosasasasasasaasasasaasasasaasasasasaasasasaae'}, {'score': 0.043249331414699554, 'token': 17, 'token_str': 's', 'sequence': 'juana esclava domingosasasasasasaasasasaasasasaasasasasaasasasaas'}, {'score': 0.05169104412198067, 'token': 0, 'token_str': ' ', 'sequence': 'juana esclava domingosasasasasasaasasasaasasasaasasasasaasasasaas '}, {'score': 0.04456527531147003, 'token': 5, 'token_str': 'e', 'sequence': 'juana esclava domingosasasasasasaasasasaasasasaasasasasaasasasaase'}, {'score': 0.04401605576276779, 'token': 1, 'token_str': 'a', 'sequence': 'juana esclava domingosasasasasasaasasasaasasasaasasasasaasasasaasa'}, {'score': 0.05202808231115341, 'token': 0, 'token_str': ' ', 'sequence': 'juana esclava domingosasasasasasaasasasaasasasaasasasasaasasasaasa '}, {'score': 0.043642014265060425, 'token': 5, 'token_str': 'e', 'sequence': 'juana esclava domingosasasasasasaasasasaasasasaasasasasaasasasaasae'}, {'score': 0.043222587555646896, 'token': 17, 'token_str': 's', 'sequence': 'juana esclava domingosasasasasasaasasasaasasasaasasasasaasasasaasas'}, {'score': 0.05152113363146782, 'token': 0, 'token_str': ' ', 'sequence': 'juana esclava domingosasasasasasaasasasaasasasaasasasasaasasasaasas '}, {'score': 0.04465393349528313, 'token': 5, 'token_str': 'e', 'sequence': 'juana esclava domingosasasasasasaasasasaasasasaasasasasaasasasaasase'}, {'score': 0.044090960174798965, 'token': 1, 'token_str': 'a', 'sequence': 'juana esclava domingosasasasasasaasasasaasasasaasasasasaasasasaasasa'}, {'score': 0.051978226751089096, 'token': 0, 'token_str': ' ', 'sequence': 'juana esclava domingosasasasasasaasasasaasasasaasasasasaasasasaasasa '}, {'score': 0.04367336630821228, 'token': 5, 'token_str': 'e', 'sequence': 'juana esclava domingosasasasasasaasasasaasasasaasasasasaasasasaasasae'}, {'score': 0.04323101416230202, 'token': 17, 'token_str': 's', 'sequence': 'juana esclava domingosasasasasasaasasasaasasasaasasasasaasasasaasasas'}, {'score': 0.0515180304646492, 'token': 0, 'token_str': ' ', 'sequence': 'juana esclava domingosasasasasasaasasasaasasasaasasasasaasasasaasasas '}, {'score': 0.0446755513548851, 'token': 5, 'token_str': 'e', 'sequence': 'juana esclava domingosasasasasasaasasasaasasasaasasasasaasasasaasasase'}, {'score': 0.0441117137670517, 'token': 1, 'token_str': 'a', 'sequence': 'juana esclava domingosasasasasasaasasasaasasasaasasasasaasasasaasasasa'}, {'score': 0.05199962481856346, 'token': 0, 'token_str': ' ', 'sequence': 'juana esclava domingosasasasasasaasasasaasasasaasasasasaasasasaasasasa '}, {'score': 0.04368424415588379, 'token': 5, 'token_str': 'e', 'sequence': 'juana esclava domingosasasasasasaasasasaasasasaasasasasaasasasaasasasae'}, {'score': 0.04323391616344452, 'token': 1, 'token_str': 'a', 'sequence': 'juana esclava domingosasasasasasaasasasaasasasaasasasasaasasasaasasasaa'}, {'score': 0.052350837737321854, 'token': 0, 'token_str': ' ', 'sequence': 'juana esclava domingosasasasasasaasasasaasasasaasasasasaasasasaasasasaa '}, {'score': 0.04342610016465187, 'token': 5, 'token_str': 'e', 'sequence': 'juana esclava domingosasasasasasaasasasaasasasaasasasasaasasasaasasasaae'}, {'score': 0.04324926808476448, 'token': 17, 'token_str': 's', 'sequence': 'juana esclava domingosasasasasasaasasasaasasasaasasasasaasasasaasasasaas'}, {'score': 0.05168677493929863, 'token': 0, 'token_str': ' ', 'sequence': 'juana esclava domingosasasasasasaasasasaasasasaasasasasaasasasaasasasaas '}, {'score': 0.04456399008631706, 'token': 5, 'token_str': 'e', 'sequence': 'juana esclava domingosasasasasasaasasasaasasasaasasasasaasasasaasasasaase'}, {'score': 0.04401489347219467, 'token': 1, 'token_str': 'a', 'sequence': 'juana esclava domingosasasasasasaasasasaasasasaasasasasaasasasaasasasaasa'}, {'score': 0.052024029195308685, 'token': 0, 'token_str': ' ', 'sequence': 'juana esclava domingosasasasasasaasasasaasasasaasasasasaasasasaasasasaasa '}, {'score': 0.04364119470119476, 'token': 5, 'token_str': 'e', 'sequence': 'juana esclava domingosasasasasasaasasasaasasasaasasasasaasasasaasasasaasae'}, {'score': 0.04322252422571182, 'token': 17, 'token_str': 's', 'sequence': 'juana esclava domingosasasasasasaasasasaasasasaasasasasaasasasaasasasaasas'}, {'score': 0.051518045365810394, 'token': 0, 'token_str': ' ', 'sequence': 'juana esclava domingosasasasasasaasasasaasasasaasasasasaasasasaasasasaasas '}, {'score': 0.044652990996837616, 'token': 5, 'token_str': 'e', 'sequence': 'juana esclava domingosasasasasasaasasasaasasasaasasasasaasasasaasasasaasase'}, {'score': 0.044090110808610916, 'token': 1, 'token_str': 'a', 'sequence': 'juana esclava domingosasasasasasaasasasaasasasaasasasasaasasasaasasasaasasa'}, {'score': 0.05197524279356003, 'token': 0, 'token_str': ' ', 'sequence': 'juana esclava domingosasasasasasaasasasaasasasaasasasasaasasasaasasasaasasa '}, {'score': 0.04367276653647423, 'token': 5, 'token_str': 'e', 'sequence': 'juana esclava domingosasasasasasaasasasaasasasaasasasasaasasasaasasasaasasae'}, {'score': 0.04323097690939903, 'token': 17, 'token_str': 's', 'sequence': 'juana esclava domingosasasasasasaasasasaasasasaasasasasaasasasaasasasaasasas'}, {'score': 0.05151575431227684, 'token': 0, 'token_str': ' ', 'sequence': 'juana esclava domingosasasasasasaasasasaasasasaasasasasaasasasaasasasaasasas '}, {'score': 0.04467485472559929, 'token': 5, 'token_str': 'e', 'sequence': 'juana esclava domingosasasasasasaasasasaasasasaasasasasaasasasaasasasaasasase'}, {'score': 0.044111087918281555, 'token': 1, 'token_str': 'a', 'sequence': 'juana esclava domingosasasasasasaasasasaasasasaasasasasaasasasaasasasaasasasa'}, {'score': 0.05199742689728737, 'token': 0, 'token_str': ' ', 'sequence': 'juana esclava domingosasasasasasaasasasaasasasaasasasasaasasasaasasasaasasasa '}, {'score': 0.04368380084633827, 'token': 5, 'token_str': 'e', 'sequence': 'juana esclava domingosasasasasasaasasasaasasasaasasasasaasasasaasasasaasasasae'}, {'score': 0.04323366656899452, 'token': 17, 'token_str': 's', 'sequence': 'juana esclava domingosasasasasasaasasasaasasasaasasasasaasasasaasasasaasasasas'}, {'score': 0.051544319838285446, 'token': 0, 'token_str': ' ', 'sequence': 'juana esclava domingosasasasasasaasasasaasasasaasasasasaasasasaasasasaasasasas '}, {'score': 0.04468698427081108, 'token': 5, 'token_str': 'e', 'sequence': 'juana esclava domingosasasasasasaasasasaasasasaasasasasaasasasaasasasaasasasase'}, {'score': 0.044122327119112015, 'token': 1, 'token_str': 'a', 'sequence': 'juana esclava domingosasasasasasaasasasaasasasaasasasasaasasasaasasasaasasasasa'}, {'score': 0.05202316492795944, 'token': 0, 'token_str': ' ', 'sequence': 'juana esclava domingosasasasasasaasasasaasasasaasasasasaasasasaasasasaasasasasa '}, {'score': 0.04368983954191208, 'token': 5, 'token_str': 'e', 'sequence': 'juana esclava domingosasasasasasaasasasaasasasaasasasasaasasasaasasasaasasasasae'}, {'score': 0.043238986283540726, 'token': 1, 'token_str': 'a', 'sequence': 'juana esclava domingosasasasasasaasasasaasasasaasasasasaasasasaasasasaasasasasaa'}, {'score': 0.05237331986427307, 'token': 0, 'token_str': ' ', 'sequence': 'juana esclava domingosasasasasasaasasasaasasasaasasasasaasasasaasasasaasasasasaa '}, {'score': 0.043430496007204056, 'token': 5, 'token_str': 'e', 'sequence': 'juana esclava domingosasasasasasaasasasaasasasaasasasasaasasasaasasasaasasasasaae'}, {'score': 0.04324985295534134, 'token': 17, 'token_str': 's', 'sequence': 'juana esclava domingosasasasasasaasasasaasasasaasasasasaasasasaasasasaasasasasaas'}, {'score': 0.05170344561338425, 'token': 0, 'token_str': ' ', 'sequence': 'juana esclava domingosasasasasasaasasasaasasasaasasasasaasasasaasasasaasasasasaas '}, {'score': 0.04456916078925133, 'token': 5, 'token_str': 'e', 'sequence': 'juana esclava domingosasasasasasaasasasaasasasaasasasasaasasasaasasasaasasasasaase'}, {'score': 0.04401974380016327, 'token': 1, 'token_str': 'a', 'sequence': 'juana esclava domingosasasasasasaasasasaasasasaasasasasaasasasaasasasaasasasasaasa'}, {'score': 0.0520399734377861, 'token': 0, 'token_str': ' ', 'sequence': 'juana esclava domingosasasasasasaasasasaasasasaasasasasaasasasaasasasaasasasasaasa '}, {'score': 0.04364442080259323, 'token': 5, 'token_str': 'e', 'sequence': 'juana esclava domingosasasasasasaasasasaasasasaasasasasaasasasaasasasaasasasasaasae'}, {'score': 0.04322291538119316, 'token': 17, 'token_str': 's', 'sequence': 'juana esclava domingosasasasasasaasasasaasasasaasasasasaasasasaasasasaasasasasaasas'}, {'score': 0.05153018981218338, 'token': 0, 'token_str': ' ', 'sequence': 'juana esclava domingosasasasasasaasasasaasasasaasasasasaasasasaasasasaasasasasaasas '}, {'score': 0.04465671628713608, 'token': 5, 'token_str': 'e', 'sequence': 'juana esclava domingosasasasasasaasasasaasasasaasasasasaasasasaasasasaasasasasaasase'}, {'score': 0.044093579053878784, 'token': 1, 'token_str': 'a', 'sequence': 'juana esclava domingosasasasasasaasasasaasasasaasasasasaasasasaasasasaasasasasaasasa'}, {'score': 0.05198696255683899, 'token': 0, 'token_str': ' ', 'sequence': 'juana esclava domingosasasasasasaasasasaasasasaasasasasaasasasaasasasaasasasasaasasa '}, {'score': 0.04367511719465256, 'token': 5, 'token_str': 'e', 'sequence': 'juana esclava domingosasasasasasaasasasaasasasaasasasasaasasasaasasasaasasasasaasasae'}, {'score': 0.04323120042681694, 'token': 17, 'token_str': 's', 'sequence': 'juana esclava domingosasasasasasaasasasaasasasaasasasasaasasasaasasasaasasasasaasasas'}, {'score': 0.05152469873428345, 'token': 0, 'token_str': ' ', 'sequence': 'juana esclava domingosasasasasasaasasasaasasasaasasasasaasasasaasasasaasasasasaasasas '}, {'score': 0.04467758536338806, 'token': 5, 'token_str': 'e', 'sequence': 'juana esclava domingosasasasasasaasasasaasasasaasasasasaasasasaasasasaasasasasaasasase'}, {'score': 0.04411358758807182, 'token': 1, 'token_str': 'a', 'sequence': 'juana esclava domingosasasasasasaasasasaasasasaasasasasaasasasaasasasaasasasasaasasasa'}, {'score': 0.05200604721903801, 'token': 0, 'token_str': ' ', 'sequence': 'juana esclava domingosasasasasasaasasasaasasasaasasasasaasasasaasasasaasasasasaasasasa '}, {'score': 0.04368552193045616, 'token': 5, 'token_str': 'e', 'sequence': 'juana esclava domingosasasasasasaasasasaasasasaasasasasaasasasaasasasaasasasasaasasasae'}, {'score': 0.04323503375053406, 'token': 1, 'token_str': 'a', 'sequence': 'juana esclava domingosasasasasasaasasasaasasasaasasasasaasasasaasasasaasasasasaasasasaa'}, {'score': 0.05235667526721954, 'token': 0, 'token_str': ' ', 'sequence': 'juana esclava domingosasasasasasaasasasaasasasaasasasasaasasasaasasasaasasasasaasasasaa '}, {'score': 0.04342716559767723, 'token': 5, 'token_str': 'e', 'sequence': 'juana esclava domingosasasasasasaasasasaasasasaasasasasaasasasaasasasaasasasasaasasasaae'}, {'score': 0.043249331414699554, 'token': 17, 'token_str': 's', 'sequence': 'juana esclava domingosasasasasasaasasasaasasasaasasasasaasasasaasasasaasasasasaasasasaas'}, {'score': 0.05169104412198067, 'token': 0, 'token_str': ' ', 'sequence': 'juana esclava domingosasasasasasaasasasaasasasaasasasasaasasasaasasasaasasasasaasasasaas '}, {'score': 0.04456527531147003, 'token': 5, 'token_str': 'e', 'sequence': 'juana esclava domingosasasasasasaasasasaasasasaasasasasaasasasaasasasaasasasasaasasasaase'}, {'score': 0.04401605576276779, 'token': 1, 'token_str': 'a', 'sequence': 'juana esclava domingosasasasasasaasasasaasasasaasasasasaasasasaasasasaasasasasaasasasaasa'}, {'score': 0.05202808231115341, 'token': 0, 'token_str': ' ', 'sequence': 'juana esclava domingosasasasasasaasasasaasasasaasasasasaasasasaasasasaasasasasaasasasaasa '}, {'score': 0.043642014265060425, 'token': 5, 'token_str': 'e', 'sequence': 'juana esclava domingosasasasasasaasasasaasasasaasasasasaasasasaasasasaasasasasaasasasaasae'}, {'score': 0.043222587555646896, 'token': 17, 'token_str': 's', 'sequence': 'juana esclava domingosasasasasasaasasasaasasasaasasasasaasasasaasasasaasasasasaasasasaasas'}, {'score': 0.05152113363146782, 'token': 0, 'token_str': ' ', 'sequence': 'juana esclava domingosasasasasasaasasasaasasasaasasasasaasasasaasasasaasasasasaasasasaasas '}, {'score': 0.04465393349528313, 'token': 5, 'token_str': 'e', 'sequence': 'juana esclava domingosasasasasasaasasasaasasasaasasasasaasasasaasasasaasasasasaasasasaasase'}, {'score': 0.044090960174798965, 'token': 1, 'token_str': 'a', 'sequence': 'juana esclava domingosasasasasasaasasasaasasasaasasasasaasasasaasasasaasasasasaasasasaasasa'}, {'score': 0.051978226751089096, 'token': 0, 'token_str': ' ', 'sequence': 'juana esclava domingosasasasasasaasasasaasasasaasasasasaasasasaasasasaasasasasaasasasaasasa '}, {'score': 0.04367336630821228, 'token': 5, 'token_str': 'e', 'sequence': 'juana esclava domingosasasasasasaasasasaasasasaasasasasaasasasaasasasaasasasasaasasasaasasae'}, {'score': 0.04323101416230202, 'token': 17, 'token_str': 's', 'sequence': 'juana esclava domingosasasasasasaasasasaasasasaasasasasaasasasaasasasaasasasasaasasasaasasas'}, {'score': 0.0515180304646492, 'token': 0, 'token_str': ' ', 'sequence': 'juana esclava domingosasasasasasaasasasaasasasaasasasasaasasasaasasasaasasasasaasasasaasasas '}, {'score': 0.0446755513548851, 'token': 5, 'token_str': 'e', 'sequence': 'juana esclava domingosasasasasasaasasasaasasasaasasasasaasasasaasasasaasasasasaasasasaasasase'}, {'score': 0.0441117137670517, 'token': 1, 'token_str': 'a', 'sequence': 'juana esclava domingosasasasasasaasasasaasasasaasasasasaasasasaasasasaasasasasaasasasaasasasa'}, {'score': 0.05199962481856346, 'token': 0, 'token_str': ' ', 'sequence': 'juana esclava domingosasasasasasaasasasaasasasaasasasasaasasasaasasasaasasasasaasasasaasasasa '}, {'score': 0.04368424415588379, 'token': 5, 'token_str': 'e', 'sequence': 'juana esclava domingosasasasasasaasasasaasasasaasasasasaasasasaasasasaasasasasaasasasaasasasae'}, {'score': 0.04323391616344452, 'token': 1, 'token_str': 'a', 'sequence': 'juana esclava domingosasasasasasaasasasaasasasaasasasasaasasasaasasasaasasasasaasasasaasasasaa'}, {'score': 0.052350837737321854, 'token': 0, 'token_str': ' ', 'sequence': 'juana esclava domingosasasasasasaasasasaasasasaasasasasaasasasaasasasaasasasasaasasasaasasasaa '}, {'score': 0.04342610016465187, 'token': 5, 'token_str': 'e', 'sequence': 'juana esclava domingosasasasasasaasasasaasasasaasasasasaasasasaasasasaasasasasaasasasaasasasaae'}, {'score': 0.04324926808476448, 'token': 17, 'token_str': 's', 'sequence': 'juana esclava domingosasasasasasaasasasaasasasaasasasasaasasasaasasasaasasasasaasasasaasasasaas'}, {'score': 0.05168677493929863, 'token': 0, 'token_str': ' ', 'sequence': 'juana esclava domingosasasasasasaasasasaasasasaasasasasaasasasaasasasaasasasasaasasasaasasasaas '}, {'score': 0.04456399008631706, 'token': 5, 'token_str': 'e', 'sequence': 'juana esclava domingosasasasasasaasasasaasasasaasasasasaasasasaasasasaasasasasaasasasaasasasaase'}, {'score': 0.04401489347219467, 'token': 1, 'token_str': 'a', 'sequence': 'juana esclava domingosasasasasasaasasasaasasasaasasasasaasasasaasasasaasasasasaasasasaasasasaasa'}, {'score': 0.052024029195308685, 'token': 0, 'token_str': ' ', 'sequence': 'juana esclava domingosasasasasasaasasasaasasasaasasasasaasasasaasasasaasasasasaasasasaasasasaasa '}, {'score': 0.04364119470119476, 'token': 5, 'token_str': 'e', 'sequence': 'juana esclava domingosasasasasasaasasasaasasasaasasasasaasasasaasasasaasasasasaasasasaasasasaasae'}, {'score': 0.04322252422571182, 'token': 17, 'token_str': 's', 'sequence': 'juana esclava domingosasasasasasaasasasaasasasaasasasasaasasasaasasasaasasasasaasasasaasasasaasas'}, {'score': 0.051518045365810394, 'token': 0, 'token_str': ' ', 'sequence': 'juana esclava domingosasasasasasaasasasaasasasaasasasasaasasasaasasasaasasasasaasasasaasasasaasas '}, {'score': 0.044652990996837616, 'token': 5, 'token_str': 'e', 'sequence': 'juana esclava domingosasasasasasaasasasaasasasaasasasasaasasasaasasasaasasasasaasasasaasasasaasase'}, {'score': 0.044090110808610916, 'token': 1, 'token_str': 'a', 'sequence': 'juana esclava domingosasasasasasaasasasaasasasaasasasasaasasasaasasasaasasasasaasasasaasasasaasasa'}, {'score': 0.05197524279356003, 'token': 0, 'token_str': ' ', 'sequence': 'juana esclava domingosasasasasasaasasasaasasasaasasasasaasasasaasasasaasasasasaasasasaasasasaasasa '}, {'score': 0.04367276653647423, 'token': 5, 'token_str': 'e', 'sequence': 'juana esclava domingosasasasasasaasasasaasasasaasasasasaasasasaasasasaasasasasaasasasaasasasaasasae'}, {'score': 0.04323097690939903, 'token': 17, 'token_str': 's', 'sequence': 'juana esclava domingosasasasasasaasasasaasasasaasasasasaasasasaasasasaasasasasaasasasaasasasaasasas'}, {'score': 0.05151575431227684, 'token': 0, 'token_str': ' ', 'sequence': 'juana esclava domingosasasasasasaasasasaasasasaasasasasaasasasaasasasaasasasasaasasasaasasasaasasas '}, {'score': 0.04467485472559929, 'token': 5, 'token_str': 'e', 'sequence': 'juana esclava domingosasasasasasaasasasaasasasaasasasasaasasasaasasasaasasasasaasasasaasasasaasasase'}, {'score': 0.044111087918281555, 'token': 1, 'token_str': 'a', 'sequence': 'juana esclava domingosasasasasasaasasasaasasasaasasasasaasasasaasasasaasasasasaasasasaasasasaasasasa'}, {'score': 0.05199742689728737, 'token': 0, 'token_str': ' ', 'sequence': 'juana esclava domingosasasasasasaasasasaasasasaasasasasaasasasaasasasaasasasasaasasasaasasasaasasasa '}, {'score': 0.04368380084633827, 'token': 5, 'token_str': 'e', 'sequence': 'juana esclava domingosasasasasasaasasasaasasasaasasasasaasasasaasasasaasasasasaasasasaasasasaasasasae'}, {'score': 0.04323366656899452, 'token': 17, 'token_str': 's', 'sequence': 'juana esclava domingosasasasasasaasasasaasasasaasasasasaasasasaasasasaasasasasaasasasaasasasaasasasas'}, {'score': 0.051544319838285446, 'token': 0, 'token_str': ' ', 'sequence': 'juana esclava domingosasasasasasaasasasaasasasaasasasasaasasasaasasasaasasasasaasasasaasasasaasasasas '}, {'score': 0.04468698427081108, 'token': 5, 'token_str': 'e', 'sequence': 'juana esclava domingosasasasasasaasasasaasasasaasasasasaasasasaasasasaasasasasaasasasaasasasaasasasase'}, {'score': 0.044122327119112015, 'token': 1, 'token_str': 'a', 'sequence': 'juana esclava domingosasasasasasaasasasaasasasaasasasasaasasasaasasasaasasasasaasasasaasasasaasasasasa'}, {'score': 0.05202316492795944, 'token': 0, 'token_str': ' ', 'sequence': 'juana esclava domingosasasasasasaasasasaasasasaasasasasaasasasaasasasaasasasasaasasasaasasasaasasasasa '}, {'score': 0.04368983954191208, 'token': 5, 'token_str': 'e', 'sequence': 'juana esclava domingosasasasasasaasasasaasasasaasasasasaasasasaasasasaasasasasaasasasaasasasaasasasasae'}, {'score': 0.043238986283540726, 'token': 1, 'token_str': 'a', 'sequence': 'juana esclava domingosasasasasasaasasasaasasasaasasasasaasasasaasasasaasasasasaasasasaasasasaasasasasaa'}, {'score': 0.05237331986427307, 'token': 0, 'token_str': ' ', 'sequence': 'juana esclava domingosasasasasasaasasasaasasasaasasasasaasasasaasasasaasasasasaasasasaasasasaasasasasaa '}, {'score': 0.043430496007204056, 'token': 5, 'token_str': 'e', 'sequence': 'juana esclava domingosasasasasasaasasasaasasasaasasasasaasasasaasasasaasasasasaasasasaasasasaasasasasaae'}, {'score': 0.04324985295534134, 'token': 17, 'token_str': 's', 'sequence': 'juana esclava domingosasasasasasaasasasaasasasaasasasasaasasasaasasasaasasasasaasasasaasasasaasasasasaas'}, {'score': 0.05170344561338425, 'token': 0, 'token_str': ' ', 'sequence': 'juana esclava domingosasasasasasaasasasaasasasaasasasasaasasasaasasasaasasasasaasasasaasasasaasasasasaas '}, {'score': 0.04456916078925133, 'token': 5, 'token_str': 'e', 'sequence': 'juana esclava domingosasasasasasaasasasaasasasaasasasasaasasasaasasasaasasasasaasasasaasasasaasasasasaase'}, {'score': 0.04401974380016327, 'token': 1, 'token_str': 'a', 'sequence': 'juana esclava domingosasasasasasaasasasaasasasaasasasasaasasasaasasasaasasasasaasasasaasasasaasasasasaasa'}, {'score': 0.0520399734377861, 'token': 0, 'token_str': ' ', 'sequence': 'juana esclava domingosasasasasasaasasasaasasasaasasasasaasasasaasasasaasasasasaasasasaasasasaasasasasaasa '}, {'score': 0.04364442080259323, 'token': 5, 'token_str': 'e', 'sequence': 'juana esclava domingosasasasasasaasasasaasasasaasasasasaasasasaasasasaasasasasaasasasaasasasaasasasasaasae'}, {'score': 0.04322291538119316, 'token': 17, 'token_str': 's', 'sequence': 'juana esclava domingosasasasasasaasasasaasasasaasasasasaasasasaasasasaasasasasaasasasaasasasaasasasasaasas'}, {'score': 0.05153018981218338, 'token': 0, 'token_str': ' ', 'sequence': 'juana esclava domingosasasasasasaasasasaasasasaasasasasaasasasaasasasaasasasasaasasasaasasasaasasasasaasas '}, {'score': 0.04465671628713608, 'token': 5, 'token_str': 'e', 'sequence': 'juana esclava domingosasasasasasaasasasaasasasaasasasasaasasasaasasasaasasasasaasasasaasasasaasasasasaasase'}, {'score': 0.044093579053878784, 'token': 1, 'token_str': 'a', 'sequence': 'juana esclava domingosasasasasasaasasasaasasasaasasasasaasasasaasasasaasasasasaasasasaasasasaasasasasaasasa'}, {'score': 0.05198696255683899, 'token': 0, 'token_str': ' ', 'sequence': 'juana esclava domingosasasasasasaasasasaasasasaasasasasaasasasaasasasaasasasasaasasasaasasasaasasasasaasasa '}, {'score': 0.04367511719465256, 'token': 5, 'token_str': 'e', 'sequence': 'juana esclava domingosasasasasasaasasasaasasasaasasasasaasasasaasasasaasasasasaasasasaasasasaasasasasaasasae'}, {'score': 0.04323120042681694, 'token': 17, 'token_str': 's', 'sequence': 'juana esclava domingosasasasasasaasasasaasasasaasasasasaasasasaasasasaasasasasaasasasaasasasaasasasasaasasas'}, {'score': 0.05152469873428345, 'token': 0, 'token_str': ' ', 'sequence': 'juana esclava domingosasasasasasaasasasaasasasaasasasasaasasasaasasasaasasasasaasasasaasasasaasasasasaasasas '}, {'score': 0.04467758536338806, 'token': 5, 'token_str': 'e', 'sequence': 'juana esclava domingosasasasasasaasasasaasasasaasasasasaasasasaasasasaasasasasaasasasaasasasaasasasasaasasase'}, {'score': 0.04411358758807182, 'token': 1, 'token_str': 'a', 'sequence': 'juana esclava domingosasasasasasaasasasaasasasaasasasasaasasasaasasasaasasasasaasasasaasasasaasasasasaasasasa'}, {'score': 0.05200604721903801, 'token': 0, 'token_str': ' ', 'sequence': 'juana esclava domingosasasasasasaasasasaasasasaasasasasaasasasaasasasaasasasasaasasasaasasasaasasasasaasasasa '}, {'score': 0.04368552193045616, 'token': 5, 'token_str': 'e', 'sequence': 'juana esclava domingosasasasasasaasasasaasasasaasasasasaasasasaasasasaasasasasaasasasaasasasaasasasasaasasasae'}, {'score': 0.04323503375053406, 'token': 1, 'token_str': 'a', 'sequence': 'juana esclava domingosasasasasasaasasasaasasasaasasasasaasasasaasasasaasasasasaasasasaasasasaasasasasaasasasaa'}, {'score': 0.05235667526721954, 'token': 0, 'token_str': ' ', 'sequence': 'juana esclava domingosasasasasasaasasasaasasasaasasasasaasasasaasasasaasasasasaasasasaasasasaasasasasaasasasaa '}, {'score': 0.04342716559767723, 'token': 5, 'token_str': 'e', 'sequence': 'juana esclava domingosasasasasasaasasasaasasasaasasasasaasasasaasasasaasasasasaasasasaasasasaasasasasaasasasaae'}, {'score': 0.043249331414699554, 'token': 17, 'token_str': 's', 'sequence': 'juana esclava domingosasasasasasaasasasaasasasaasasasasaasasasaasasasaasasasasaasasasaasasasaasasasasaasasasaas'}, {'score': 0.05169104412198067, 'token': 0, 'token_str': ' ', 'sequence': 'juana esclava domingosasasasasasaasasasaasasasaasasasasaasasasaasasasaasasasasaasasasaasasasaasasasasaasasasaas '}, {'score': 0.04456527531147003, 'token': 5, 'token_str': 'e', 'sequence': 'juana esclava domingosasasasasasaasasasaasasasaasasasasaasasasaasasasaasasasasaasasasaasasasaasasasasaasasasaase'}, {'score': 0.04401605576276779, 'token': 1, 'token_str': 'a', 'sequence': 'juana esclava domingosasasasasasaasasasaasasasaasasasasaasasasaasasasaasasasasaasasasaasasasaasasasasaasasasaasa'}, {'score': 0.05202808231115341, 'token': 0, 'token_str': ' ', 'sequence': 'juana esclava domingosasasasasasaasasasaasasasaasasasasaasasasaasasasaasasasasaasasasaasasasaasasasasaasasasaasa '}, {'score': 0.043642014265060425, 'token': 5, 'token_str': 'e', 'sequence': 'juana esclava domingosasasasasasaasasasaasasasaasasasasaasasasaasasasaasasasasaasasasaasasasaasasasasaasasasaasae'}, {'score': 0.043222587555646896, 'token': 17, 'token_str': 's', 'sequence': 'juana esclava domingosasasasasasaasasasaasasasaasasasasaasasasaasasasaasasasasaasasasaasasasaasasasasaasasasaasas'}, {'score': 0.05152113363146782, 'token': 0, 'token_str': ' ', 'sequence': 'juana esclava domingosasasasasasaasasasaasasasaasasasasaasasasaasasasaasasasasaasasasaasasasaasasasasaasasasaasas '}, {'score': 0.04465393349528313, 'token': 5, 'token_str': 'e', 'sequence': 'juana esclava domingosasasasasasaasasasaasasasaasasasasaasasasaasasasaasasasasaasasasaasasasaasasasasaasasasaasase'}, {'score': 0.044090960174798965, 'token': 1, 'token_str': 'a', 'sequence': 'juana esclava domingosasasasasasaasasasaasasasaasasasasaasasasaasasasaasasasasaasasasaasasasaasasasasaasasasaasasa'}, {'score': 0.051978226751089096, 'token': 0, 'token_str': ' ', 'sequence': 'juana esclava domingosasasasasasaasasasaasasasaasasasasaasasasaasasasaasasasasaasasasaasasasaasasasasaasasasaasasa '}, {'score': 0.04367336630821228, 'token': 5, 'token_str': 'e', 'sequence': 'juana esclava domingosasasasasasaasasasaasasasaasasasasaasasasaasasasaasasasasaasasasaasasasaasasasasaasasasaasasae'}, {'score': 0.04323101416230202, 'token': 17, 'token_str': 's', 'sequence': 'juana esclava domingosasasasasasaasasasaasasasaasasasasaasasasaasasasaasasasasaasasasaasasasaasasasasaasasasaasasas'}, {'score': 0.0515180304646492, 'token': 0, 'token_str': ' ', 'sequence': 'juana esclava domingosasasasasasaasasasaasasasaasasasasaasasasaasasasaasasasasaasasasaasasasaasasasasaasasasaasasas '}, {'score': 0.0446755513548851, 'token': 5, 'token_str': 'e', 'sequence': 'juana esclava domingosasasasasasaasasasaasasasaasasasasaasasasaasasasaasasasasaasasasaasasasaasasasasaasasasaasasase'}, {'score': 0.0441117137670517, 'token': 1, 'token_str': 'a', 'sequence': 'juana esclava domingosasasasasasaasasasaasasasaasasasasaasasasaasasasaasasasasaasasasaasasasaasasasasaasasasaasasasa'}, {'score': 0.05199962481856346, 'token': 0, 'token_str': ' ', 'sequence': 'juana esclava domingosasasasasasaasasasaasasasaasasasasaasasasaasasasaasasasasaasasasaasasasaasasasasaasasasaasasasa '}, {'score': 0.04368424415588379, 'token': 5, 'token_str': 'e', 'sequence': 'juana esclava domingosasasasasasaasasasaasasasaasasasasaasasasaasasasaasasasasaasasasaasasasaasasasasaasasasaasasasae'}, {'score': 0.04323391616344452, 'token': 1, 'token_str': 'a', 'sequence': 'juana esclava domingosasasasasasaasasasaasasasaasasasasaasasasaasasasaasasasasaasasasaasasasaasasasasaasasasaasasasaa'}, {'score': 0.052350837737321854, 'token': 0, 'token_str': ' ', 'sequence': 'juana esclava domingosasasasasasaasasasaasasasaasasasasaasasasaasasasaasasasasaasasasaasasasaasasasasaasasasaasasasaa '}, {'score': 0.04342610016465187, 'token': 5, 'token_str': 'e', 'sequence': 'juana esclava domingosasasasasasaasasasaasasasaasasasasaasasasaasasasaasasasasaasasasaasasasaasasasasaasasasaasasasaae'}, {'score': 0.04324926808476448, 'token': 17, 'token_str': 's', 'sequence': 'juana esclava domingosasasasasasaasasasaasasasaasasasasaasasasaasasasaasasasasaasasasaasasasaasasasasaasasasaasasasaas'}, {'score': 0.05168677493929863, 'token': 0, 'token_str': ' ', 'sequence': 'juana esclava domingosasasasasasaasasasaasasasaasasasasaasasasaasasasaasasasasaasasasaasasasaasasasasaasasasaasasasaas '}, {'score': 0.04456399008631706, 'token': 5, 'token_str': 'e', 'sequence': 'juana esclava domingosasasasasasaasasasaasasasaasasasasaasasasaasasasaasasasasaasasasaasasasaasasasasaasasasaasasasaase'}, {'score': 0.04401489347219467, 'token': 1, 'token_str': 'a', 'sequence': 'juana esclava domingosasasasasasaasasasaasasasaasasasasaasasasaasasasaasasasasaasasasaasasasaasasasasaasasasaasasasaasa'}, {'score': 0.052024029195308685, 'token': 0, 'token_str': ' ', 'sequence': 'juana esclava domingosasasasasasaasasasaasasasaasasasasaasasasaasasasaasasasasaasasasaasasasaasasasasaasasasaasasasaasa '}, {'score': 0.04364119470119476, 'token': 5, 'token_str': 'e', 'sequence': 'juana esclava domingosasasasasasaasasasaasasasaasasasasaasasasaasasasaasasasasaasasasaasasasaasasasasaasasasaasasasaasae'}, {'score': 0.04322252422571182, 'token': 17, 'token_str': 's', 'sequence': 'juana esclava domingosasasasasasaasasasaasasasaasasasasaasasasaasasasaasasasasaasasasaasasasaasasasasaasasasaasasasaasas'}, {'score': 0.051518045365810394, 'token': 0, 'token_str': ' ', 'sequence': 'juana esclava domingosasasasasasaasasasaasasasaasasasasaasasasaasasasaasasasasaasasasaasasasaasasasasaasasasaasasasaasas '}, {'score': 0.044652990996837616, 'token': 5, 'token_str': 'e', 'sequence': 'juana esclava domingosasasasasasaasasasaasasasaasasasasaasasasaasasasaasasasasaasasasaasasasaasasasasaasasasaasasasaasase'}, {'score': 0.044090110808610916, 'token': 1, 'token_str': 'a', 'sequence': 'juana esclava domingosasasasasasaasasasaasasasaasasasasaasasasaasasasaasasasasaasasasaasasasaasasasasaasasasaasasasaasasa'}]\n"
          ]
        }
      ]
    }
  ]
}